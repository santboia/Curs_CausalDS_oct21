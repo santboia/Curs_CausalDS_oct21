{
 "cells": [
  {
   "cell_type": "markdown",
   "metadata": {},
   "source": [
    "<font size=\"6\">Part I: Introduction</font>\n",
    "\n",
    "# Causal Inference python packages\n",
    "\n",
    "There are some (not too much) packages that implement algorithms to perform some tasks related to Causal Inference.\n",
    "\n",
    "Nevertheless, the reality is: all of them are not too much mature. \n",
    "\n",
    "\n",
    "The most advanced once are:\n",
    "\n"
   ]
  },
  {
   "cell_type": "markdown",
   "metadata": {},
   "source": [
    "## Causal ML from UBER\n",
    "\n",
    "<img src=\"./images/causalml_logo.png\" alt=\"Causal ML from Uber\" title=\"\" style=\"width: 200px\" align=\"left\"/>\n",
    "\n",
    "<br>\n",
    "<br>\n",
    "<br>\n",
    "<br>\n",
    "\n",
    "You can find the github link [here](https://github.com/uber/causalml)\n",
    "\n",
    "Directly from the project page:\n",
    "\n",
    "\"**Causal ML** *is a Python package that provides a suite of uplift modeling and causal inference methods using machine learning algorithms based on recent research. It provides a standard interface that allows user to estimate the Conditional Average Treatment Effect (CATE) or Individual Treatment Effect (ITE) from experimental or observational data. Essentially, it estimates the causal impact of intervention T on outcome Y for users with observed features X, without strong assumptions on the model form.*\"\n",
    "\n",
    "\n",
    "You can find a lot of algorithms already implemented for modeling and estimation. \n"
   ]
  },
  {
   "cell_type": "markdown",
   "metadata": {},
   "source": [
    "## DoWhy from Microsoft\n",
    "\n",
    "You can find the github [here](https://github.com/microsoft/dowhy) and the documentation [here](https://microsoft.github.io/dowhy/)\n",
    "\n",
    "The authors describe the package as: *DoWhy | An end-to-end library for causal inference*\n",
    "\n",
    "This affirmation is quite real since the package allows you to follow all the steps needed to perform a Causal Inference analysis.\n",
    "\n",
    "The package has been designed to do the analysis in **four** different steps:\n",
    "\n",
    "\n",
    "<img src=\"./images/dowhy_framework.png\" alt=\"Causal ML from Uber\" title=\"\" />\n",
    "\n",
    "### 1) Create the Causal Model\n",
    "\n",
    "We know that in order to move from \"association\" to \"causation\" we need a plus of information, observational data is not enought. One way to represent this domain knowledge is through **causal graphs**.\n",
    "\n",
    "DoWhy allows you to model those causal graphs and use them in during the whole process.\n",
    "\n",
    "From the package page:\n",
    "\n",
    "*\"DoWhy creates an **underlying causal graphical model** for each problem. This serves to make each causal assumption explicit. This graph need not be complete—you can provide a partial graph, representing prior knowledge about some of the variables. DoWhy automatically considers the rest of the variables as potential confounders.\"*\n",
    "\n",
    "\n",
    "### 2) Identification\n",
    "\n",
    "Once we have created and defined the **causal model** is time to decide if the assumptions make sense. In other words, we have to **identify the causal model**:\n",
    "\n",
    "*\"Based on the causal graph, DoWhy finds all possible ways of identifying a desired causal effect based on the graphical model. It uses graph-based criteria and do-calculus to find potential ways find expressions that can identify the causal effect.*\n",
    "\n",
    "In fact, our goal is to analyze our causal model (including the causal relationships between features and which features are observed) to determine whether we have enough information to answer a specific causal inference question.\n",
    "\n",
    "Said in plain english: identification is the process of transforming a causal quantity to a statistical one, called the **identified estimand**.\n",
    "\n",
    "\n",
    "### 3) Estimation\n",
    "\n",
    "Once we found the **estimand**, it is time to **estimate** it. Because we were able to move from a causal quantity to a statistical one, we can use the **observational data** (a.k.a our database) to estimate the Treatment effect. At this stage, we can use **Machine Learning** methods to do this estimation.\n",
    "\n",
    "There are several methods to do this estimation task. We'll go through some of them.\n",
    "\n",
    "\n",
    "### 4) Refutation\n",
    "\n",
    "Once we have an estimation, we have to be sure (or at least have some confidence on) that it make sense. DoWhy estimation is based in the **potential outcome** framework, so it is not possible to know if the results are actually good or not. The only think that we can do is to run some tests (called **refutation test**) that would give some hints about how good is our estimation.\n",
    "\n",
    "\n",
    "Using this framework and the DoWhy package we can perform a complete Causal Inference analysis.\n",
    "\n",
    "Let's see how it work with some examples\n",
    "\n"
   ]
  },
  {
   "cell_type": "markdown",
   "metadata": {},
   "source": [
    "\n",
    "# Setting up the problem: Hotel Booking Cancellations"
   ]
  },
  {
   "cell_type": "markdown",
   "metadata": {},
   "source": [
    "\n",
    "We consider what factors cause a hotel booking to be cancelled. This analysis is based on a hotel bookings dataset from [Antonio, Almeida and Nunes (2019)](https://www.sciencedirect.com/science/article/pii/S2352340918315191). On GitHub, the dataset is available at [rfordatascience/tidytuesday](https://github.com/rfordatascience/tidytuesday/blob/master/data/2020/2020-02-11/readme.md). \n",
    "\n",
    "There can be **different reasons** for why a booking is cancelled:\n",
    "\n",
    "- A customer may have requested something that was not available (e.g., car parking)\n",
    "- a customer may have found later that the hotel did not meet their requirements\n",
    "- or, a customer may have simply cancelled their entire trip. \n",
    "\n",
    "Some of these like car parking are actionable by the hotel whereas others like trip cancellation are outside the hotel's control. In any case, **we would like to better understand which of these factors cause booking cancellations**. \n",
    "\n",
    "The **gold standard** of finding this out would be to use experiments such as *Randomized Controlled Trials* wherein each customer is randomly assigned to one of the two categories i.e. each customer is either assigned a car parking or not. However, such an experiment can be **too costly** and also unethical in some cases (for example, a hotel would start losing its reputation if people learn that its randomly assigning people to different level of service). \n",
    "\n",
    "Can we somehow answer our query using only observational data or data that has been collected in the past?\n",
    "\n"
   ]
  },
  {
   "cell_type": "code",
   "execution_count": 3,
   "metadata": {},
   "outputs": [],
   "source": [
    "%reload_ext autoreload\n",
    "%autoreload 2"
   ]
  },
  {
   "cell_type": "code",
   "execution_count": 4,
   "metadata": {},
   "outputs": [],
   "source": [
    "# Config dict to set the logging level\n",
    "import logging.config\n",
    "DEFAULT_LOGGING = {\n",
    "    'version': 1,\n",
    "    'disable_existing_loggers': False,\n",
    "    'loggers': {\n",
    "        '': {\n",
    "            'level': 'INFO',\n",
    "        },\n",
    "    }\n",
    "}\n",
    "\n",
    "logging.config.dictConfig(DEFAULT_LOGGING)\n",
    "# Disabling warnings output\n",
    "import warnings\n",
    "from sklearn.exceptions import DataConversionWarning, ConvergenceWarning\n",
    "warnings.filterwarnings(action='ignore', category=DataConversionWarning)\n",
    "warnings.filterwarnings(action='ignore', category=ConvergenceWarning)\n",
    "warnings.filterwarnings(action='ignore', category=UserWarning)\n"
   ]
  },
  {
   "cell_type": "code",
   "execution_count": 5,
   "metadata": {},
   "outputs": [
    {
     "name": "stdout",
     "output_type": "stream",
     "text": [
      "Requirement already satisfied: dowhy in /Users/ESMoraEn/anaconda3/envs/causality/lib/python3.7/site-packages (0.6)\n",
      "Requirement already satisfied: statsmodels in /Users/ESMoraEn/anaconda3/envs/causality/lib/python3.7/site-packages (from dowhy) (0.12.2)\n",
      "Requirement already satisfied: scipy in /Users/ESMoraEn/anaconda3/envs/causality/lib/python3.7/site-packages (from dowhy) (1.7.1)\n",
      "Requirement already satisfied: sympy>=1.4 in /Users/ESMoraEn/anaconda3/envs/causality/lib/python3.7/site-packages (from dowhy) (1.8)\n",
      "Requirement already satisfied: scikit-learn in /Users/ESMoraEn/anaconda3/envs/causality/lib/python3.7/site-packages (from dowhy) (1.0)\n",
      "Requirement already satisfied: networkx>=2.0 in /Users/ESMoraEn/anaconda3/envs/causality/lib/python3.7/site-packages (from dowhy) (2.6.3)\n",
      "Requirement already satisfied: pandas>=0.24 in /Users/ESMoraEn/anaconda3/envs/causality/lib/python3.7/site-packages (from dowhy) (1.3.3)\n",
      "Requirement already satisfied: numpy>=1.15 in /Users/ESMoraEn/anaconda3/envs/causality/lib/python3.7/site-packages (from dowhy) (1.20.3)\n",
      "Requirement already satisfied: pydot>=1.4 in /Users/ESMoraEn/anaconda3/envs/causality/lib/python3.7/site-packages (from dowhy) (1.4.2)\n",
      "Requirement already satisfied: python-dateutil>=2.7.3 in /Users/ESMoraEn/anaconda3/envs/causality/lib/python3.7/site-packages (from pandas>=0.24->dowhy) (2.8.1)\n",
      "Requirement already satisfied: pytz>=2017.3 in /Users/ESMoraEn/anaconda3/envs/causality/lib/python3.7/site-packages (from pandas>=0.24->dowhy) (2021.1)\n",
      "Requirement already satisfied: pyparsing>=2.1.4 in /Users/ESMoraEn/anaconda3/envs/causality/lib/python3.7/site-packages (from pydot>=1.4->dowhy) (2.4.7)\n",
      "Requirement already satisfied: six>=1.5 in /Users/ESMoraEn/anaconda3/envs/causality/lib/python3.7/site-packages (from python-dateutil>=2.7.3->pandas>=0.24->dowhy) (1.15.0)\n",
      "Requirement already satisfied: mpmath>=0.19 in /Users/ESMoraEn/anaconda3/envs/causality/lib/python3.7/site-packages (from sympy>=1.4->dowhy) (1.2.1)\n",
      "Requirement already satisfied: joblib>=0.11 in /Users/ESMoraEn/anaconda3/envs/causality/lib/python3.7/site-packages (from scikit-learn->dowhy) (1.0.1)\n",
      "Requirement already satisfied: threadpoolctl>=2.0.0 in /Users/ESMoraEn/anaconda3/envs/causality/lib/python3.7/site-packages (from scikit-learn->dowhy) (2.2.0)\n",
      "Requirement already satisfied: patsy>=0.5 in /Users/ESMoraEn/anaconda3/envs/causality/lib/python3.7/site-packages (from statsmodels->dowhy) (0.5.2)\n",
      "Requirement already satisfied: pandas in /Users/ESMoraEn/anaconda3/envs/causality/lib/python3.7/site-packages (1.3.3)\n",
      "Requirement already satisfied: pytz>=2017.3 in /Users/ESMoraEn/anaconda3/envs/causality/lib/python3.7/site-packages (from pandas) (2021.1)\n",
      "Requirement already satisfied: numpy>=1.17.3 in /Users/ESMoraEn/anaconda3/envs/causality/lib/python3.7/site-packages (from pandas) (1.20.3)\n",
      "Requirement already satisfied: python-dateutil>=2.7.3 in /Users/ESMoraEn/anaconda3/envs/causality/lib/python3.7/site-packages (from pandas) (2.8.1)\n",
      "Requirement already satisfied: six>=1.5 in /Users/ESMoraEn/anaconda3/envs/causality/lib/python3.7/site-packages (from python-dateutil>=2.7.3->pandas) (1.15.0)\n",
      "Requirement already satisfied: numpy in /Users/ESMoraEn/anaconda3/envs/causality/lib/python3.7/site-packages (1.20.3)\n",
      "Requirement already satisfied: matplotlib in /Users/ESMoraEn/anaconda3/envs/causality/lib/python3.7/site-packages (3.4.3)\n",
      "Requirement already satisfied: python-dateutil>=2.7 in /Users/ESMoraEn/anaconda3/envs/causality/lib/python3.7/site-packages (from matplotlib) (2.8.1)\n",
      "Requirement already satisfied: pillow>=6.2.0 in /Users/ESMoraEn/anaconda3/envs/causality/lib/python3.7/site-packages (from matplotlib) (8.3.2)\n",
      "Requirement already satisfied: numpy>=1.16 in /Users/ESMoraEn/anaconda3/envs/causality/lib/python3.7/site-packages (from matplotlib) (1.20.3)\n",
      "Requirement already satisfied: kiwisolver>=1.0.1 in /Users/ESMoraEn/anaconda3/envs/causality/lib/python3.7/site-packages (from matplotlib) (1.3.2)\n",
      "Requirement already satisfied: cycler>=0.10 in /Users/ESMoraEn/anaconda3/envs/causality/lib/python3.7/site-packages (from matplotlib) (0.10.0)\n",
      "Requirement already satisfied: pyparsing>=2.2.1 in /Users/ESMoraEn/anaconda3/envs/causality/lib/python3.7/site-packages (from matplotlib) (2.4.7)\n",
      "Requirement already satisfied: six in /Users/ESMoraEn/anaconda3/envs/causality/lib/python3.7/site-packages (from cycler>=0.10->matplotlib) (1.15.0)\n",
      "Requirement already satisfied: graphviz in /Users/ESMoraEn/anaconda3/envs/causality/lib/python3.7/site-packages (0.17)\n"
     ]
    }
   ],
   "source": [
    "!pip install dowhy\n",
    "!pip install pandas\n",
    "!pip install numpy\n",
    "!pip install matplotlib\n",
    "!pip install graphviz"
   ]
  },
  {
   "cell_type": "code",
   "execution_count": 6,
   "metadata": {},
   "outputs": [],
   "source": [
    "import dowhy\n",
    "import pandas as pd\n",
    "import numpy as np\n",
    "import matplotlib.pyplot as plt\n",
    "import warnings\n",
    "\n",
    "warnings.filterwarnings(action='ignore', category=FutureWarning)"
   ]
  },
  {
   "cell_type": "code",
   "execution_count": 7,
   "metadata": {},
   "outputs": [
    {
     "data": {
      "text/html": [
       "<div>\n",
       "<style scoped>\n",
       "    .dataframe tbody tr th:only-of-type {\n",
       "        vertical-align: middle;\n",
       "    }\n",
       "\n",
       "    .dataframe tbody tr th {\n",
       "        vertical-align: top;\n",
       "    }\n",
       "\n",
       "    .dataframe thead th {\n",
       "        text-align: right;\n",
       "    }\n",
       "</style>\n",
       "<table border=\"1\" class=\"dataframe\">\n",
       "  <thead>\n",
       "    <tr style=\"text-align: right;\">\n",
       "      <th></th>\n",
       "      <th>hotel</th>\n",
       "      <th>is_canceled</th>\n",
       "      <th>lead_time</th>\n",
       "      <th>arrival_date_year</th>\n",
       "      <th>arrival_date_month</th>\n",
       "      <th>arrival_date_week_number</th>\n",
       "      <th>arrival_date_day_of_month</th>\n",
       "      <th>stays_in_weekend_nights</th>\n",
       "      <th>stays_in_week_nights</th>\n",
       "      <th>adults</th>\n",
       "      <th>...</th>\n",
       "      <th>deposit_type</th>\n",
       "      <th>agent</th>\n",
       "      <th>company</th>\n",
       "      <th>days_in_waiting_list</th>\n",
       "      <th>customer_type</th>\n",
       "      <th>adr</th>\n",
       "      <th>required_car_parking_spaces</th>\n",
       "      <th>total_of_special_requests</th>\n",
       "      <th>reservation_status</th>\n",
       "      <th>reservation_status_date</th>\n",
       "    </tr>\n",
       "  </thead>\n",
       "  <tbody>\n",
       "    <tr>\n",
       "      <th>0</th>\n",
       "      <td>Resort Hotel</td>\n",
       "      <td>0</td>\n",
       "      <td>342</td>\n",
       "      <td>2015</td>\n",
       "      <td>July</td>\n",
       "      <td>27</td>\n",
       "      <td>1</td>\n",
       "      <td>0</td>\n",
       "      <td>0</td>\n",
       "      <td>2</td>\n",
       "      <td>...</td>\n",
       "      <td>No Deposit</td>\n",
       "      <td>NaN</td>\n",
       "      <td>NaN</td>\n",
       "      <td>0</td>\n",
       "      <td>Transient</td>\n",
       "      <td>0.0</td>\n",
       "      <td>0</td>\n",
       "      <td>0</td>\n",
       "      <td>Check-Out</td>\n",
       "      <td>2015-07-01</td>\n",
       "    </tr>\n",
       "    <tr>\n",
       "      <th>1</th>\n",
       "      <td>Resort Hotel</td>\n",
       "      <td>0</td>\n",
       "      <td>737</td>\n",
       "      <td>2015</td>\n",
       "      <td>July</td>\n",
       "      <td>27</td>\n",
       "      <td>1</td>\n",
       "      <td>0</td>\n",
       "      <td>0</td>\n",
       "      <td>2</td>\n",
       "      <td>...</td>\n",
       "      <td>No Deposit</td>\n",
       "      <td>NaN</td>\n",
       "      <td>NaN</td>\n",
       "      <td>0</td>\n",
       "      <td>Transient</td>\n",
       "      <td>0.0</td>\n",
       "      <td>0</td>\n",
       "      <td>0</td>\n",
       "      <td>Check-Out</td>\n",
       "      <td>2015-07-01</td>\n",
       "    </tr>\n",
       "    <tr>\n",
       "      <th>2</th>\n",
       "      <td>Resort Hotel</td>\n",
       "      <td>0</td>\n",
       "      <td>7</td>\n",
       "      <td>2015</td>\n",
       "      <td>July</td>\n",
       "      <td>27</td>\n",
       "      <td>1</td>\n",
       "      <td>0</td>\n",
       "      <td>1</td>\n",
       "      <td>1</td>\n",
       "      <td>...</td>\n",
       "      <td>No Deposit</td>\n",
       "      <td>NaN</td>\n",
       "      <td>NaN</td>\n",
       "      <td>0</td>\n",
       "      <td>Transient</td>\n",
       "      <td>75.0</td>\n",
       "      <td>0</td>\n",
       "      <td>0</td>\n",
       "      <td>Check-Out</td>\n",
       "      <td>2015-07-02</td>\n",
       "    </tr>\n",
       "    <tr>\n",
       "      <th>3</th>\n",
       "      <td>Resort Hotel</td>\n",
       "      <td>0</td>\n",
       "      <td>13</td>\n",
       "      <td>2015</td>\n",
       "      <td>July</td>\n",
       "      <td>27</td>\n",
       "      <td>1</td>\n",
       "      <td>0</td>\n",
       "      <td>1</td>\n",
       "      <td>1</td>\n",
       "      <td>...</td>\n",
       "      <td>No Deposit</td>\n",
       "      <td>304.0</td>\n",
       "      <td>NaN</td>\n",
       "      <td>0</td>\n",
       "      <td>Transient</td>\n",
       "      <td>75.0</td>\n",
       "      <td>0</td>\n",
       "      <td>0</td>\n",
       "      <td>Check-Out</td>\n",
       "      <td>2015-07-02</td>\n",
       "    </tr>\n",
       "    <tr>\n",
       "      <th>4</th>\n",
       "      <td>Resort Hotel</td>\n",
       "      <td>0</td>\n",
       "      <td>14</td>\n",
       "      <td>2015</td>\n",
       "      <td>July</td>\n",
       "      <td>27</td>\n",
       "      <td>1</td>\n",
       "      <td>0</td>\n",
       "      <td>2</td>\n",
       "      <td>2</td>\n",
       "      <td>...</td>\n",
       "      <td>No Deposit</td>\n",
       "      <td>240.0</td>\n",
       "      <td>NaN</td>\n",
       "      <td>0</td>\n",
       "      <td>Transient</td>\n",
       "      <td>98.0</td>\n",
       "      <td>0</td>\n",
       "      <td>1</td>\n",
       "      <td>Check-Out</td>\n",
       "      <td>2015-07-03</td>\n",
       "    </tr>\n",
       "  </tbody>\n",
       "</table>\n",
       "<p>5 rows × 32 columns</p>\n",
       "</div>"
      ],
      "text/plain": [
       "          hotel  is_canceled  lead_time  arrival_date_year arrival_date_month  \\\n",
       "0  Resort Hotel            0        342               2015               July   \n",
       "1  Resort Hotel            0        737               2015               July   \n",
       "2  Resort Hotel            0          7               2015               July   \n",
       "3  Resort Hotel            0         13               2015               July   \n",
       "4  Resort Hotel            0         14               2015               July   \n",
       "\n",
       "   arrival_date_week_number  arrival_date_day_of_month  \\\n",
       "0                        27                          1   \n",
       "1                        27                          1   \n",
       "2                        27                          1   \n",
       "3                        27                          1   \n",
       "4                        27                          1   \n",
       "\n",
       "   stays_in_weekend_nights  stays_in_week_nights  adults  ...  deposit_type  \\\n",
       "0                        0                     0       2  ...    No Deposit   \n",
       "1                        0                     0       2  ...    No Deposit   \n",
       "2                        0                     1       1  ...    No Deposit   \n",
       "3                        0                     1       1  ...    No Deposit   \n",
       "4                        0                     2       2  ...    No Deposit   \n",
       "\n",
       "   agent company days_in_waiting_list customer_type   adr  \\\n",
       "0    NaN     NaN                    0     Transient   0.0   \n",
       "1    NaN     NaN                    0     Transient   0.0   \n",
       "2    NaN     NaN                    0     Transient  75.0   \n",
       "3  304.0     NaN                    0     Transient  75.0   \n",
       "4  240.0     NaN                    0     Transient  98.0   \n",
       "\n",
       "   required_car_parking_spaces  total_of_special_requests  reservation_status  \\\n",
       "0                            0                          0           Check-Out   \n",
       "1                            0                          0           Check-Out   \n",
       "2                            0                          0           Check-Out   \n",
       "3                            0                          0           Check-Out   \n",
       "4                            0                          1           Check-Out   \n",
       "\n",
       "  reservation_status_date  \n",
       "0              2015-07-01  \n",
       "1              2015-07-01  \n",
       "2              2015-07-02  \n",
       "3              2015-07-02  \n",
       "4              2015-07-03  \n",
       "\n",
       "[5 rows x 32 columns]"
      ]
     },
     "execution_count": 7,
     "metadata": {},
     "output_type": "execute_result"
    }
   ],
   "source": [
    "dataset = pd.read_csv('https://raw.githubusercontent.com/Sid-darthvader/DoWhy-The-Causal-Story-Behind-Hotel-Booking-Cancellations/master/hotel_bookings.csv')\n",
    "dataset.head()"
   ]
  },
  {
   "cell_type": "markdown",
   "metadata": {},
   "source": [
    "## Data Description\n",
    "\n",
    "For a quick glance of the features and their descriptions the reader is referred here.\n",
    "https://github.com/rfordatascience/tidytuesday/blob/master/data/2020/2020-02-11/readme.md\n",
    "\n",
    "Spend 5 minutes to understand the different columns."
   ]
  },
  {
   "cell_type": "code",
   "execution_count": 8,
   "metadata": {},
   "outputs": [
    {
     "data": {
      "text/plain": [
       "Index(['hotel', 'is_canceled', 'lead_time', 'arrival_date_year',\n",
       "       'arrival_date_month', 'arrival_date_week_number',\n",
       "       'arrival_date_day_of_month', 'stays_in_weekend_nights',\n",
       "       'stays_in_week_nights', 'adults', 'children', 'babies', 'meal',\n",
       "       'country', 'market_segment', 'distribution_channel',\n",
       "       'is_repeated_guest', 'previous_cancellations',\n",
       "       'previous_bookings_not_canceled', 'reserved_room_type',\n",
       "       'assigned_room_type', 'booking_changes', 'deposit_type', 'agent',\n",
       "       'company', 'days_in_waiting_list', 'customer_type', 'adr',\n",
       "       'required_car_parking_spaces', 'total_of_special_requests',\n",
       "       'reservation_status', 'reservation_status_date'],\n",
       "      dtype='object')"
      ]
     },
     "execution_count": 8,
     "metadata": {},
     "output_type": "execute_result"
    }
   ],
   "source": [
    "dataset.columns"
   ]
  },
  {
   "cell_type": "markdown",
   "metadata": {},
   "source": [
    "Let's see one single enty of the dataset:"
   ]
  },
  {
   "cell_type": "code",
   "execution_count": 9,
   "metadata": {},
   "outputs": [
    {
     "data": {
      "text/plain": [
       "hotel                             Resort Hotel\n",
       "is_canceled                                  0\n",
       "lead_time                                   97\n",
       "arrival_date_year                         2015\n",
       "arrival_date_month                        July\n",
       "arrival_date_week_number                    28\n",
       "arrival_date_day_of_month                    5\n",
       "stays_in_weekend_nights                      2\n",
       "stays_in_week_nights                         5\n",
       "adults                                       2\n",
       "children                                   2.0\n",
       "babies                                       0\n",
       "meal                                        HB\n",
       "country                                    PRT\n",
       "market_segment                          Direct\n",
       "distribution_channel                    Direct\n",
       "is_repeated_guest                            0\n",
       "previous_cancellations                       0\n",
       "previous_bookings_not_canceled               0\n",
       "reserved_room_type                           C\n",
       "assigned_room_type                           C\n",
       "booking_changes                              1\n",
       "deposit_type                        No Deposit\n",
       "agent                                    250.0\n",
       "company                                    NaN\n",
       "days_in_waiting_list                         0\n",
       "customer_type                        Transient\n",
       "adr                                      164.2\n",
       "required_car_parking_spaces                  1\n",
       "total_of_special_requests                    1\n",
       "reservation_status                   Check-Out\n",
       "reservation_status_date             2015-07-12\n",
       "Name: 150, dtype: object"
      ]
     },
     "execution_count": 9,
     "metadata": {},
     "output_type": "execute_result"
    }
   ],
   "source": [
    "dataset.iloc[150]"
   ]
  },
  {
   "cell_type": "code",
   "execution_count": 10,
   "metadata": {},
   "outputs": [
    {
     "data": {
      "text/html": [
       "<div>\n",
       "<style scoped>\n",
       "    .dataframe tbody tr th:only-of-type {\n",
       "        vertical-align: middle;\n",
       "    }\n",
       "\n",
       "    .dataframe tbody tr th {\n",
       "        vertical-align: top;\n",
       "    }\n",
       "\n",
       "    .dataframe thead th {\n",
       "        text-align: right;\n",
       "    }\n",
       "</style>\n",
       "<table border=\"1\" class=\"dataframe\">\n",
       "  <thead>\n",
       "    <tr style=\"text-align: right;\">\n",
       "      <th></th>\n",
       "      <th>is_canceled</th>\n",
       "      <th>lead_time</th>\n",
       "      <th>arrival_date_year</th>\n",
       "      <th>arrival_date_week_number</th>\n",
       "      <th>arrival_date_day_of_month</th>\n",
       "      <th>stays_in_weekend_nights</th>\n",
       "      <th>stays_in_week_nights</th>\n",
       "      <th>adults</th>\n",
       "      <th>children</th>\n",
       "      <th>babies</th>\n",
       "      <th>is_repeated_guest</th>\n",
       "      <th>previous_cancellations</th>\n",
       "      <th>previous_bookings_not_canceled</th>\n",
       "      <th>booking_changes</th>\n",
       "      <th>agent</th>\n",
       "      <th>company</th>\n",
       "      <th>days_in_waiting_list</th>\n",
       "      <th>adr</th>\n",
       "      <th>required_car_parking_spaces</th>\n",
       "      <th>total_of_special_requests</th>\n",
       "    </tr>\n",
       "  </thead>\n",
       "  <tbody>\n",
       "    <tr>\n",
       "      <th>count</th>\n",
       "      <td>119390.000000</td>\n",
       "      <td>119390.000000</td>\n",
       "      <td>119390.000000</td>\n",
       "      <td>119390.000000</td>\n",
       "      <td>119390.000000</td>\n",
       "      <td>119390.000000</td>\n",
       "      <td>119390.000000</td>\n",
       "      <td>119390.000000</td>\n",
       "      <td>119386.000000</td>\n",
       "      <td>119390.000000</td>\n",
       "      <td>119390.000000</td>\n",
       "      <td>119390.000000</td>\n",
       "      <td>119390.000000</td>\n",
       "      <td>119390.000000</td>\n",
       "      <td>103050.000000</td>\n",
       "      <td>6797.000000</td>\n",
       "      <td>119390.000000</td>\n",
       "      <td>119390.000000</td>\n",
       "      <td>119390.000000</td>\n",
       "      <td>119390.000000</td>\n",
       "    </tr>\n",
       "    <tr>\n",
       "      <th>mean</th>\n",
       "      <td>0.370416</td>\n",
       "      <td>104.011416</td>\n",
       "      <td>2016.156554</td>\n",
       "      <td>27.165173</td>\n",
       "      <td>15.798241</td>\n",
       "      <td>0.927599</td>\n",
       "      <td>2.500302</td>\n",
       "      <td>1.856403</td>\n",
       "      <td>0.103890</td>\n",
       "      <td>0.007949</td>\n",
       "      <td>0.031912</td>\n",
       "      <td>0.087118</td>\n",
       "      <td>0.137097</td>\n",
       "      <td>0.221124</td>\n",
       "      <td>86.693382</td>\n",
       "      <td>189.266735</td>\n",
       "      <td>2.321149</td>\n",
       "      <td>101.831122</td>\n",
       "      <td>0.062518</td>\n",
       "      <td>0.571363</td>\n",
       "    </tr>\n",
       "    <tr>\n",
       "      <th>std</th>\n",
       "      <td>0.482918</td>\n",
       "      <td>106.863097</td>\n",
       "      <td>0.707476</td>\n",
       "      <td>13.605138</td>\n",
       "      <td>8.780829</td>\n",
       "      <td>0.998613</td>\n",
       "      <td>1.908286</td>\n",
       "      <td>0.579261</td>\n",
       "      <td>0.398561</td>\n",
       "      <td>0.097436</td>\n",
       "      <td>0.175767</td>\n",
       "      <td>0.844336</td>\n",
       "      <td>1.497437</td>\n",
       "      <td>0.652306</td>\n",
       "      <td>110.774548</td>\n",
       "      <td>131.655015</td>\n",
       "      <td>17.594721</td>\n",
       "      <td>50.535790</td>\n",
       "      <td>0.245291</td>\n",
       "      <td>0.792798</td>\n",
       "    </tr>\n",
       "    <tr>\n",
       "      <th>min</th>\n",
       "      <td>0.000000</td>\n",
       "      <td>0.000000</td>\n",
       "      <td>2015.000000</td>\n",
       "      <td>1.000000</td>\n",
       "      <td>1.000000</td>\n",
       "      <td>0.000000</td>\n",
       "      <td>0.000000</td>\n",
       "      <td>0.000000</td>\n",
       "      <td>0.000000</td>\n",
       "      <td>0.000000</td>\n",
       "      <td>0.000000</td>\n",
       "      <td>0.000000</td>\n",
       "      <td>0.000000</td>\n",
       "      <td>0.000000</td>\n",
       "      <td>1.000000</td>\n",
       "      <td>6.000000</td>\n",
       "      <td>0.000000</td>\n",
       "      <td>-6.380000</td>\n",
       "      <td>0.000000</td>\n",
       "      <td>0.000000</td>\n",
       "    </tr>\n",
       "    <tr>\n",
       "      <th>25%</th>\n",
       "      <td>0.000000</td>\n",
       "      <td>18.000000</td>\n",
       "      <td>2016.000000</td>\n",
       "      <td>16.000000</td>\n",
       "      <td>8.000000</td>\n",
       "      <td>0.000000</td>\n",
       "      <td>1.000000</td>\n",
       "      <td>2.000000</td>\n",
       "      <td>0.000000</td>\n",
       "      <td>0.000000</td>\n",
       "      <td>0.000000</td>\n",
       "      <td>0.000000</td>\n",
       "      <td>0.000000</td>\n",
       "      <td>0.000000</td>\n",
       "      <td>9.000000</td>\n",
       "      <td>62.000000</td>\n",
       "      <td>0.000000</td>\n",
       "      <td>69.290000</td>\n",
       "      <td>0.000000</td>\n",
       "      <td>0.000000</td>\n",
       "    </tr>\n",
       "    <tr>\n",
       "      <th>50%</th>\n",
       "      <td>0.000000</td>\n",
       "      <td>69.000000</td>\n",
       "      <td>2016.000000</td>\n",
       "      <td>28.000000</td>\n",
       "      <td>16.000000</td>\n",
       "      <td>1.000000</td>\n",
       "      <td>2.000000</td>\n",
       "      <td>2.000000</td>\n",
       "      <td>0.000000</td>\n",
       "      <td>0.000000</td>\n",
       "      <td>0.000000</td>\n",
       "      <td>0.000000</td>\n",
       "      <td>0.000000</td>\n",
       "      <td>0.000000</td>\n",
       "      <td>14.000000</td>\n",
       "      <td>179.000000</td>\n",
       "      <td>0.000000</td>\n",
       "      <td>94.575000</td>\n",
       "      <td>0.000000</td>\n",
       "      <td>0.000000</td>\n",
       "    </tr>\n",
       "    <tr>\n",
       "      <th>75%</th>\n",
       "      <td>1.000000</td>\n",
       "      <td>160.000000</td>\n",
       "      <td>2017.000000</td>\n",
       "      <td>38.000000</td>\n",
       "      <td>23.000000</td>\n",
       "      <td>2.000000</td>\n",
       "      <td>3.000000</td>\n",
       "      <td>2.000000</td>\n",
       "      <td>0.000000</td>\n",
       "      <td>0.000000</td>\n",
       "      <td>0.000000</td>\n",
       "      <td>0.000000</td>\n",
       "      <td>0.000000</td>\n",
       "      <td>0.000000</td>\n",
       "      <td>229.000000</td>\n",
       "      <td>270.000000</td>\n",
       "      <td>0.000000</td>\n",
       "      <td>126.000000</td>\n",
       "      <td>0.000000</td>\n",
       "      <td>1.000000</td>\n",
       "    </tr>\n",
       "    <tr>\n",
       "      <th>max</th>\n",
       "      <td>1.000000</td>\n",
       "      <td>737.000000</td>\n",
       "      <td>2017.000000</td>\n",
       "      <td>53.000000</td>\n",
       "      <td>31.000000</td>\n",
       "      <td>19.000000</td>\n",
       "      <td>50.000000</td>\n",
       "      <td>55.000000</td>\n",
       "      <td>10.000000</td>\n",
       "      <td>10.000000</td>\n",
       "      <td>1.000000</td>\n",
       "      <td>26.000000</td>\n",
       "      <td>72.000000</td>\n",
       "      <td>21.000000</td>\n",
       "      <td>535.000000</td>\n",
       "      <td>543.000000</td>\n",
       "      <td>391.000000</td>\n",
       "      <td>5400.000000</td>\n",
       "      <td>8.000000</td>\n",
       "      <td>5.000000</td>\n",
       "    </tr>\n",
       "  </tbody>\n",
       "</table>\n",
       "</div>"
      ],
      "text/plain": [
       "         is_canceled      lead_time  arrival_date_year  \\\n",
       "count  119390.000000  119390.000000      119390.000000   \n",
       "mean        0.370416     104.011416        2016.156554   \n",
       "std         0.482918     106.863097           0.707476   \n",
       "min         0.000000       0.000000        2015.000000   \n",
       "25%         0.000000      18.000000        2016.000000   \n",
       "50%         0.000000      69.000000        2016.000000   \n",
       "75%         1.000000     160.000000        2017.000000   \n",
       "max         1.000000     737.000000        2017.000000   \n",
       "\n",
       "       arrival_date_week_number  arrival_date_day_of_month  \\\n",
       "count             119390.000000              119390.000000   \n",
       "mean                  27.165173                  15.798241   \n",
       "std                   13.605138                   8.780829   \n",
       "min                    1.000000                   1.000000   \n",
       "25%                   16.000000                   8.000000   \n",
       "50%                   28.000000                  16.000000   \n",
       "75%                   38.000000                  23.000000   \n",
       "max                   53.000000                  31.000000   \n",
       "\n",
       "       stays_in_weekend_nights  stays_in_week_nights         adults  \\\n",
       "count            119390.000000         119390.000000  119390.000000   \n",
       "mean                  0.927599              2.500302       1.856403   \n",
       "std                   0.998613              1.908286       0.579261   \n",
       "min                   0.000000              0.000000       0.000000   \n",
       "25%                   0.000000              1.000000       2.000000   \n",
       "50%                   1.000000              2.000000       2.000000   \n",
       "75%                   2.000000              3.000000       2.000000   \n",
       "max                  19.000000             50.000000      55.000000   \n",
       "\n",
       "            children         babies  is_repeated_guest  \\\n",
       "count  119386.000000  119390.000000      119390.000000   \n",
       "mean        0.103890       0.007949           0.031912   \n",
       "std         0.398561       0.097436           0.175767   \n",
       "min         0.000000       0.000000           0.000000   \n",
       "25%         0.000000       0.000000           0.000000   \n",
       "50%         0.000000       0.000000           0.000000   \n",
       "75%         0.000000       0.000000           0.000000   \n",
       "max        10.000000      10.000000           1.000000   \n",
       "\n",
       "       previous_cancellations  previous_bookings_not_canceled  \\\n",
       "count           119390.000000                   119390.000000   \n",
       "mean                 0.087118                        0.137097   \n",
       "std                  0.844336                        1.497437   \n",
       "min                  0.000000                        0.000000   \n",
       "25%                  0.000000                        0.000000   \n",
       "50%                  0.000000                        0.000000   \n",
       "75%                  0.000000                        0.000000   \n",
       "max                 26.000000                       72.000000   \n",
       "\n",
       "       booking_changes          agent      company  days_in_waiting_list  \\\n",
       "count    119390.000000  103050.000000  6797.000000         119390.000000   \n",
       "mean          0.221124      86.693382   189.266735              2.321149   \n",
       "std           0.652306     110.774548   131.655015             17.594721   \n",
       "min           0.000000       1.000000     6.000000              0.000000   \n",
       "25%           0.000000       9.000000    62.000000              0.000000   \n",
       "50%           0.000000      14.000000   179.000000              0.000000   \n",
       "75%           0.000000     229.000000   270.000000              0.000000   \n",
       "max          21.000000     535.000000   543.000000            391.000000   \n",
       "\n",
       "                 adr  required_car_parking_spaces  total_of_special_requests  \n",
       "count  119390.000000                119390.000000              119390.000000  \n",
       "mean      101.831122                     0.062518                   0.571363  \n",
       "std        50.535790                     0.245291                   0.792798  \n",
       "min        -6.380000                     0.000000                   0.000000  \n",
       "25%        69.290000                     0.000000                   0.000000  \n",
       "50%        94.575000                     0.000000                   0.000000  \n",
       "75%       126.000000                     0.000000                   1.000000  \n",
       "max      5400.000000                     8.000000                   5.000000  "
      ]
     },
     "execution_count": 10,
     "metadata": {},
     "output_type": "execute_result"
    }
   ],
   "source": [
    "dataset.describe()"
   ]
  },
  {
   "cell_type": "markdown",
   "metadata": {},
   "source": [
    "## Domain Knowledge\n",
    "\n",
    "Represent your prior knowledge about the predictive modelling problem as a CI graph using assumptions. Don't worry, you need not specify the full graph at this stage. Even a partial graph would be enough and the rest can be figured out by *DoWhy* ;-)\n",
    "\n",
    "Here are a list of assumptions that have then been translated into a Causal Diagram:-\n",
    "\n",
    "- *Market Segment* has 2 levels, “TA” refers to the “Travel Agents” and “TO” means “Tour Operators” so it should affect the Lead Time (which is simply the number of days between booking and arrival).\n",
    "- *Country* would also play a role in deciding whether a person books early or not (hence more *Lead Time*) and what type of *Meal* a person would prefer.\n",
    "- *Lead Time* would definitely affected the number of *Days in Waitlist* (There are lesser chances of finding a reservation if you’re booking late). Additionally, higher *Lead Times* can also lead to *Cancellations*.\n",
    "- The number of *Days in Waitlist*, the *Total Stay* in nights and the number of *Guests* might affect whether the booking is cancelled or retained.\n",
    "- *Previous Booking Retentions* would affect whether a customer is a *Repeated Guest* or not. Additionally, both of these variables would affect whether the booking get *cancelled* or not (Ex- A customer who has retained his past 5 bookings in the past has a higher chance of retaining this one also. Similarly a person who has been cancelling this booking has a higher chance of repeating the same).\n",
    "- *Booking Changes* would affect whether the customer is assigned a *different room* or not which might also lead to *cancellation*.\n",
    "- Finally, the number of *Booking Changes* being the only confounder affecting *Treatment* and *Outcome* is highly unlikely and its possible that there might be some *Unobsevered Confounders*, regarding which we have no information being captured in our data.\n",
    "\n"
   ]
  },
  {
   "cell_type": "markdown",
   "metadata": {},
   "source": [
    "<img src=\"./images/booking_cancellations_graph.png\" alt=\"Causal Graph\" title=\"\" align=\"left\"/>"
   ]
  },
  {
   "cell_type": "markdown",
   "metadata": {},
   "source": [
    "Does our assumptions make sense? Let's do some analysis to confirm our intuitions"
   ]
  },
  {
   "cell_type": "markdown",
   "metadata": {},
   "source": [
    "## Feature Engineering\n",
    "\n",
    "Lets create some new and meaningful features so as to reduce the dimensionality of the dataset. \n",
    "- **Total Stay** =  stays_in_weekend_nights + stays_in_week_nights\n",
    "- **Guests** = adults + children + babies\n",
    "- **Different_room_assigned** = 1 if reserved_room_type & assigned_room_type are different, 0 otherwise."
   ]
  },
  {
   "cell_type": "code",
   "execution_count": 11,
   "metadata": {},
   "outputs": [
    {
     "data": {
      "text/plain": [
       "Index(['hotel', 'is_canceled', 'lead_time', 'arrival_date_year',\n",
       "       'arrival_date_month', 'arrival_date_week_number',\n",
       "       'arrival_date_day_of_month', 'meal', 'country', 'market_segment',\n",
       "       'distribution_channel', 'is_repeated_guest', 'previous_cancellations',\n",
       "       'previous_bookings_not_canceled', 'booking_changes', 'deposit_type',\n",
       "       'agent', 'company', 'days_in_waiting_list', 'customer_type', 'adr',\n",
       "       'required_car_parking_spaces', 'total_of_special_requests',\n",
       "       'reservation_status', 'reservation_status_date', 'total_stay', 'guests',\n",
       "       'different_room_assigned'],\n",
       "      dtype='object')"
      ]
     },
     "execution_count": 11,
     "metadata": {},
     "output_type": "execute_result"
    }
   ],
   "source": [
    "# Total stay in nights\n",
    "dataset['total_stay'] = dataset['stays_in_week_nights'] + dataset['stays_in_weekend_nights']\n",
    "\n",
    "# Total number of guests\n",
    "dataset['guests'] = dataset['adults'] + dataset['children'] + dataset['babies']\n",
    "\n",
    "# Creating the different_room_assigned feature\n",
    "dataset['different_room_assigned'] = 0\n",
    "slice_indices = dataset['reserved_room_type'] != dataset['assigned_room_type']\n",
    "dataset.loc[slice_indices,'different_room_assigned'] = 1\n",
    "\n",
    "# Deleting older features\n",
    "dataset = dataset.drop(['stays_in_week_nights','stays_in_weekend_nights','adults','children','babies'\n",
    "                        ,'reserved_room_type','assigned_room_type'],axis=1)\n",
    "dataset.columns"
   ]
  },
  {
   "cell_type": "markdown",
   "metadata": {},
   "source": [
    "We also remove other columns that either contain NULL values or have too many unique values (e.g., agent ID). We also impute missing values of the `country` column with the most frequent country. We remove `distribution_channel` since it has a high overlap with `market_segment`."
   ]
  },
  {
   "cell_type": "code",
   "execution_count": 12,
   "metadata": {},
   "outputs": [],
   "source": [
    "dataset.isnull().sum() # Country,Agent,Company contain 488,16340,112593 missing entries \n",
    "dataset = dataset.drop(['agent','company'],axis=1)\n",
    "\n",
    "# Replacing missing countries with most freqently occuring countries\n",
    "dataset['country']= dataset['country'].fillna(dataset['country'].mode()[0])"
   ]
  },
  {
   "cell_type": "code",
   "execution_count": 13,
   "metadata": {},
   "outputs": [],
   "source": [
    "dataset = dataset.drop(['reservation_status','reservation_status_date','arrival_date_day_of_month'],axis=1)\n",
    "dataset = dataset.drop(['arrival_date_year'],axis=1)\n",
    "dataset = dataset.drop(['distribution_channel'], axis=1)"
   ]
  },
  {
   "cell_type": "code",
   "execution_count": 14,
   "metadata": {},
   "outputs": [
    {
     "name": "stdout",
     "output_type": "stream",
     "text": [
      "Number of elements: 119386\n",
      "Index(['hotel', 'is_canceled', 'lead_time', 'arrival_date_month',\n",
      "       'arrival_date_week_number', 'meal', 'country', 'market_segment',\n",
      "       'is_repeated_guest', 'previous_cancellations',\n",
      "       'previous_bookings_not_canceled', 'booking_changes', 'deposit_type',\n",
      "       'days_in_waiting_list', 'customer_type', 'adr',\n",
      "       'required_car_parking_spaces', 'total_of_special_requests',\n",
      "       'total_stay', 'guests', 'different_room_assigned'],\n",
      "      dtype='object')\n"
     ]
    },
    {
     "data": {
      "text/html": [
       "<div>\n",
       "<style scoped>\n",
       "    .dataframe tbody tr th:only-of-type {\n",
       "        vertical-align: middle;\n",
       "    }\n",
       "\n",
       "    .dataframe tbody tr th {\n",
       "        vertical-align: top;\n",
       "    }\n",
       "\n",
       "    .dataframe thead th {\n",
       "        text-align: right;\n",
       "    }\n",
       "</style>\n",
       "<table border=\"1\" class=\"dataframe\">\n",
       "  <thead>\n",
       "    <tr style=\"text-align: right;\">\n",
       "      <th></th>\n",
       "      <th>hotel</th>\n",
       "      <th>is_canceled</th>\n",
       "      <th>lead_time</th>\n",
       "      <th>arrival_date_month</th>\n",
       "      <th>arrival_date_week_number</th>\n",
       "      <th>meal</th>\n",
       "      <th>country</th>\n",
       "      <th>market_segment</th>\n",
       "      <th>is_repeated_guest</th>\n",
       "      <th>previous_cancellations</th>\n",
       "      <th>...</th>\n",
       "      <th>booking_changes</th>\n",
       "      <th>deposit_type</th>\n",
       "      <th>days_in_waiting_list</th>\n",
       "      <th>customer_type</th>\n",
       "      <th>adr</th>\n",
       "      <th>required_car_parking_spaces</th>\n",
       "      <th>total_of_special_requests</th>\n",
       "      <th>total_stay</th>\n",
       "      <th>guests</th>\n",
       "      <th>different_room_assigned</th>\n",
       "    </tr>\n",
       "  </thead>\n",
       "  <tbody>\n",
       "    <tr>\n",
       "      <th>0</th>\n",
       "      <td>Resort Hotel</td>\n",
       "      <td>False</td>\n",
       "      <td>342</td>\n",
       "      <td>July</td>\n",
       "      <td>27</td>\n",
       "      <td>BB</td>\n",
       "      <td>PRT</td>\n",
       "      <td>Direct</td>\n",
       "      <td>0</td>\n",
       "      <td>0</td>\n",
       "      <td>...</td>\n",
       "      <td>3</td>\n",
       "      <td>No Deposit</td>\n",
       "      <td>0</td>\n",
       "      <td>Transient</td>\n",
       "      <td>0.0</td>\n",
       "      <td>0</td>\n",
       "      <td>0</td>\n",
       "      <td>0</td>\n",
       "      <td>2.0</td>\n",
       "      <td>False</td>\n",
       "    </tr>\n",
       "    <tr>\n",
       "      <th>1</th>\n",
       "      <td>Resort Hotel</td>\n",
       "      <td>False</td>\n",
       "      <td>737</td>\n",
       "      <td>July</td>\n",
       "      <td>27</td>\n",
       "      <td>BB</td>\n",
       "      <td>PRT</td>\n",
       "      <td>Direct</td>\n",
       "      <td>0</td>\n",
       "      <td>0</td>\n",
       "      <td>...</td>\n",
       "      <td>4</td>\n",
       "      <td>No Deposit</td>\n",
       "      <td>0</td>\n",
       "      <td>Transient</td>\n",
       "      <td>0.0</td>\n",
       "      <td>0</td>\n",
       "      <td>0</td>\n",
       "      <td>0</td>\n",
       "      <td>2.0</td>\n",
       "      <td>False</td>\n",
       "    </tr>\n",
       "    <tr>\n",
       "      <th>2</th>\n",
       "      <td>Resort Hotel</td>\n",
       "      <td>False</td>\n",
       "      <td>7</td>\n",
       "      <td>July</td>\n",
       "      <td>27</td>\n",
       "      <td>BB</td>\n",
       "      <td>GBR</td>\n",
       "      <td>Direct</td>\n",
       "      <td>0</td>\n",
       "      <td>0</td>\n",
       "      <td>...</td>\n",
       "      <td>0</td>\n",
       "      <td>No Deposit</td>\n",
       "      <td>0</td>\n",
       "      <td>Transient</td>\n",
       "      <td>75.0</td>\n",
       "      <td>0</td>\n",
       "      <td>0</td>\n",
       "      <td>1</td>\n",
       "      <td>1.0</td>\n",
       "      <td>True</td>\n",
       "    </tr>\n",
       "    <tr>\n",
       "      <th>3</th>\n",
       "      <td>Resort Hotel</td>\n",
       "      <td>False</td>\n",
       "      <td>13</td>\n",
       "      <td>July</td>\n",
       "      <td>27</td>\n",
       "      <td>BB</td>\n",
       "      <td>GBR</td>\n",
       "      <td>Corporate</td>\n",
       "      <td>0</td>\n",
       "      <td>0</td>\n",
       "      <td>...</td>\n",
       "      <td>0</td>\n",
       "      <td>No Deposit</td>\n",
       "      <td>0</td>\n",
       "      <td>Transient</td>\n",
       "      <td>75.0</td>\n",
       "      <td>0</td>\n",
       "      <td>0</td>\n",
       "      <td>1</td>\n",
       "      <td>1.0</td>\n",
       "      <td>False</td>\n",
       "    </tr>\n",
       "    <tr>\n",
       "      <th>4</th>\n",
       "      <td>Resort Hotel</td>\n",
       "      <td>False</td>\n",
       "      <td>14</td>\n",
       "      <td>July</td>\n",
       "      <td>27</td>\n",
       "      <td>BB</td>\n",
       "      <td>GBR</td>\n",
       "      <td>Online TA</td>\n",
       "      <td>0</td>\n",
       "      <td>0</td>\n",
       "      <td>...</td>\n",
       "      <td>0</td>\n",
       "      <td>No Deposit</td>\n",
       "      <td>0</td>\n",
       "      <td>Transient</td>\n",
       "      <td>98.0</td>\n",
       "      <td>0</td>\n",
       "      <td>1</td>\n",
       "      <td>2</td>\n",
       "      <td>2.0</td>\n",
       "      <td>False</td>\n",
       "    </tr>\n",
       "  </tbody>\n",
       "</table>\n",
       "<p>5 rows × 21 columns</p>\n",
       "</div>"
      ],
      "text/plain": [
       "          hotel  is_canceled  lead_time arrival_date_month  \\\n",
       "0  Resort Hotel        False        342               July   \n",
       "1  Resort Hotel        False        737               July   \n",
       "2  Resort Hotel        False          7               July   \n",
       "3  Resort Hotel        False         13               July   \n",
       "4  Resort Hotel        False         14               July   \n",
       "\n",
       "   arrival_date_week_number meal country market_segment  is_repeated_guest  \\\n",
       "0                        27   BB     PRT         Direct                  0   \n",
       "1                        27   BB     PRT         Direct                  0   \n",
       "2                        27   BB     GBR         Direct                  0   \n",
       "3                        27   BB     GBR      Corporate                  0   \n",
       "4                        27   BB     GBR      Online TA                  0   \n",
       "\n",
       "   previous_cancellations  ...  booking_changes  deposit_type  \\\n",
       "0                       0  ...                3    No Deposit   \n",
       "1                       0  ...                4    No Deposit   \n",
       "2                       0  ...                0    No Deposit   \n",
       "3                       0  ...                0    No Deposit   \n",
       "4                       0  ...                0    No Deposit   \n",
       "\n",
       "  days_in_waiting_list  customer_type   adr  required_car_parking_spaces  \\\n",
       "0                    0      Transient   0.0                            0   \n",
       "1                    0      Transient   0.0                            0   \n",
       "2                    0      Transient  75.0                            0   \n",
       "3                    0      Transient  75.0                            0   \n",
       "4                    0      Transient  98.0                            0   \n",
       "\n",
       "   total_of_special_requests  total_stay  guests  different_room_assigned  \n",
       "0                          0           0     2.0                    False  \n",
       "1                          0           0     2.0                    False  \n",
       "2                          0           1     1.0                     True  \n",
       "3                          0           1     1.0                    False  \n",
       "4                          1           2     2.0                    False  \n",
       "\n",
       "[5 rows x 21 columns]"
      ]
     },
     "execution_count": 14,
     "metadata": {},
     "output_type": "execute_result"
    }
   ],
   "source": [
    "# Replacing 1 by True and 0 by False for the experiment and outcome variables\n",
    "dataset['different_room_assigned']= dataset['different_room_assigned'].replace(1,True)\n",
    "dataset['different_room_assigned']= dataset['different_room_assigned'].replace(0,False)\n",
    "dataset['is_canceled']= dataset['is_canceled'].replace(1,True)\n",
    "dataset['is_canceled']= dataset['is_canceled'].replace(0,False)\n",
    "dataset.dropna(inplace=True)\n",
    "print(\"Number of elements: %i\" % len(dataset))\n",
    "print(dataset.columns)\n",
    "dataset.head()"
   ]
  },
  {
   "cell_type": "markdown",
   "metadata": {},
   "source": [
    "We think that \"non refund\" and \"refundable\" are not interesting entries because they are underrepresented and probably not too much influencers"
   ]
  },
  {
   "cell_type": "code",
   "execution_count": 15,
   "metadata": {},
   "outputs": [
    {
     "data": {
      "text/plain": [
       "<AxesSubplot:>"
      ]
     },
     "execution_count": 15,
     "metadata": {},
     "output_type": "execute_result"
    },
    {
     "data": {
      "image/png": "[encoded data removed]",
      "text/plain": [
       "<Figure size 432x288 with 1 Axes>"
      ]
     },
     "metadata": {
      "needs_background": "light"
     },
     "output_type": "display_data"
    }
   ],
   "source": [
    "dataset.deposit_type.hist()"
   ]
  },
  {
   "cell_type": "code",
   "execution_count": 16,
   "metadata": {},
   "outputs": [],
   "source": [
    "dataset = dataset[dataset.deposit_type==\"No Deposit\"]"
   ]
  },
  {
   "cell_type": "markdown",
   "metadata": {},
   "source": [
    "Is the outcome variable too much unbalanced?"
   ]
  },
  {
   "cell_type": "code",
   "execution_count": 17,
   "metadata": {},
   "outputs": [
    {
     "data": {
      "text/plain": [
       "<AxesSubplot:>"
      ]
     },
     "execution_count": 17,
     "metadata": {},
     "output_type": "execute_result"
    },
    {
     "data": {
      "image/png": "[encoded data removed]",
      "text/plain": [
       "<Figure size 432x288 with 1 Axes>"
      ]
     },
     "metadata": {
      "needs_background": "light"
     },
     "output_type": "display_data"
    }
   ],
   "source": [
    "dataset['is_canceled'].astype(int).hist()"
   ]
  },
  {
   "cell_type": "code",
   "execution_count": 18,
   "metadata": {},
   "outputs": [
    {
     "data": {
      "text/html": [
       "<div>\n",
       "<style scoped>\n",
       "    .dataframe tbody tr th:only-of-type {\n",
       "        vertical-align: middle;\n",
       "    }\n",
       "\n",
       "    .dataframe tbody tr th {\n",
       "        vertical-align: top;\n",
       "    }\n",
       "\n",
       "    .dataframe thead th {\n",
       "        text-align: right;\n",
       "    }\n",
       "</style>\n",
       "<table border=\"1\" class=\"dataframe\">\n",
       "  <thead>\n",
       "    <tr style=\"text-align: right;\">\n",
       "      <th></th>\n",
       "      <th></th>\n",
       "      <th>hotel</th>\n",
       "      <th>lead_time</th>\n",
       "      <th>arrival_date_month</th>\n",
       "      <th>arrival_date_week_number</th>\n",
       "      <th>meal</th>\n",
       "      <th>country</th>\n",
       "      <th>market_segment</th>\n",
       "      <th>is_repeated_guest</th>\n",
       "      <th>previous_cancellations</th>\n",
       "      <th>previous_bookings_not_canceled</th>\n",
       "      <th>booking_changes</th>\n",
       "      <th>days_in_waiting_list</th>\n",
       "      <th>customer_type</th>\n",
       "      <th>adr</th>\n",
       "      <th>required_car_parking_spaces</th>\n",
       "      <th>total_of_special_requests</th>\n",
       "      <th>total_stay</th>\n",
       "      <th>guests</th>\n",
       "      <th>different_room_assigned</th>\n",
       "    </tr>\n",
       "    <tr>\n",
       "      <th>deposit_type</th>\n",
       "      <th>is_canceled</th>\n",
       "      <th></th>\n",
       "      <th></th>\n",
       "      <th></th>\n",
       "      <th></th>\n",
       "      <th></th>\n",
       "      <th></th>\n",
       "      <th></th>\n",
       "      <th></th>\n",
       "      <th></th>\n",
       "      <th></th>\n",
       "      <th></th>\n",
       "      <th></th>\n",
       "      <th></th>\n",
       "      <th></th>\n",
       "      <th></th>\n",
       "      <th></th>\n",
       "      <th></th>\n",
       "      <th></th>\n",
       "      <th></th>\n",
       "    </tr>\n",
       "  </thead>\n",
       "  <tbody>\n",
       "    <tr>\n",
       "      <th rowspan=\"2\" valign=\"top\">No Deposit</th>\n",
       "      <th>False</th>\n",
       "      <td>74947</td>\n",
       "      <td>74947</td>\n",
       "      <td>74947</td>\n",
       "      <td>74947</td>\n",
       "      <td>74947</td>\n",
       "      <td>74947</td>\n",
       "      <td>74947</td>\n",
       "      <td>74947</td>\n",
       "      <td>74947</td>\n",
       "      <td>74947</td>\n",
       "      <td>74947</td>\n",
       "      <td>74947</td>\n",
       "      <td>74947</td>\n",
       "      <td>74947</td>\n",
       "      <td>74947</td>\n",
       "      <td>74947</td>\n",
       "      <td>74947</td>\n",
       "      <td>74947</td>\n",
       "      <td>74947</td>\n",
       "    </tr>\n",
       "    <tr>\n",
       "      <th>True</th>\n",
       "      <td>29690</td>\n",
       "      <td>29690</td>\n",
       "      <td>29690</td>\n",
       "      <td>29690</td>\n",
       "      <td>29690</td>\n",
       "      <td>29690</td>\n",
       "      <td>29690</td>\n",
       "      <td>29690</td>\n",
       "      <td>29690</td>\n",
       "      <td>29690</td>\n",
       "      <td>29690</td>\n",
       "      <td>29690</td>\n",
       "      <td>29690</td>\n",
       "      <td>29690</td>\n",
       "      <td>29690</td>\n",
       "      <td>29690</td>\n",
       "      <td>29690</td>\n",
       "      <td>29690</td>\n",
       "      <td>29690</td>\n",
       "    </tr>\n",
       "  </tbody>\n",
       "</table>\n",
       "</div>"
      ],
      "text/plain": [
       "                          hotel  lead_time  arrival_date_month  \\\n",
       "deposit_type is_canceled                                         \n",
       "No Deposit   False        74947      74947               74947   \n",
       "             True         29690      29690               29690   \n",
       "\n",
       "                          arrival_date_week_number   meal  country  \\\n",
       "deposit_type is_canceled                                             \n",
       "No Deposit   False                           74947  74947    74947   \n",
       "             True                            29690  29690    29690   \n",
       "\n",
       "                          market_segment  is_repeated_guest  \\\n",
       "deposit_type is_canceled                                      \n",
       "No Deposit   False                 74947              74947   \n",
       "             True                  29690              29690   \n",
       "\n",
       "                          previous_cancellations  \\\n",
       "deposit_type is_canceled                           \n",
       "No Deposit   False                         74947   \n",
       "             True                          29690   \n",
       "\n",
       "                          previous_bookings_not_canceled  booking_changes  \\\n",
       "deposit_type is_canceled                                                    \n",
       "No Deposit   False                                 74947            74947   \n",
       "             True                                  29690            29690   \n",
       "\n",
       "                          days_in_waiting_list  customer_type    adr  \\\n",
       "deposit_type is_canceled                                               \n",
       "No Deposit   False                       74947          74947  74947   \n",
       "             True                        29690          29690  29690   \n",
       "\n",
       "                          required_car_parking_spaces  \\\n",
       "deposit_type is_canceled                                \n",
       "No Deposit   False                              74947   \n",
       "             True                               29690   \n",
       "\n",
       "                          total_of_special_requests  total_stay  guests  \\\n",
       "deposit_type is_canceled                                                  \n",
       "No Deposit   False                            74947       74947   74947   \n",
       "             True                             29690       29690   29690   \n",
       "\n",
       "                          different_room_assigned  \n",
       "deposit_type is_canceled                           \n",
       "No Deposit   False                          74947  \n",
       "             True                           29690  "
      ]
     },
     "execution_count": 18,
     "metadata": {},
     "output_type": "execute_result"
    }
   ],
   "source": [
    "dataset.groupby(['deposit_type','is_canceled']).count()"
   ]
  },
  {
   "cell_type": "markdown",
   "metadata": {},
   "source": [
    "At this step, we can think that one possible action (or treatment) that we can do is to offer to the customer other room than the selected one (maybe better). \n",
    "\n",
    "Let's understand a little bit more the data"
   ]
  },
  {
   "cell_type": "code",
   "execution_count": 19,
   "metadata": {},
   "outputs": [
    {
     "data": {
      "text/plain": [
       "<AxesSubplot:>"
      ]
     },
     "execution_count": 19,
     "metadata": {},
     "output_type": "execute_result"
    },
    {
     "data": {
      "image/png": "[encoded data removed]",
      "text/plain": [
       "<Figure size 432x288 with 1 Axes>"
      ]
     },
     "metadata": {
      "needs_background": "light"
     },
     "output_type": "display_data"
    }
   ],
   "source": [
    "dataset['different_room_assigned'].astype(int).hist()"
   ]
  },
  {
   "cell_type": "code",
   "execution_count": 41,
   "metadata": {},
   "outputs": [
    {
     "data": {
      "text/plain": [
       "<AxesSubplot:>"
      ]
     },
     "execution_count": 41,
     "metadata": {},
     "output_type": "execute_result"
    },
    {
     "data": {
      "image/png": "[encoded data removed]",
      "text/plain": [
       "<Figure size 432x288 with 1 Axes>"
      ]
     },
     "metadata": {
      "needs_background": "light"
     },
     "output_type": "display_data"
    }
   ],
   "source": [
    "dataset[dataset['different_room_assigned'] == True].is_canceled.astype(int).hist()"
   ]
  },
  {
   "cell_type": "code",
   "execution_count": 42,
   "metadata": {},
   "outputs": [
    {
     "data": {
      "text/plain": [
       "<AxesSubplot:>"
      ]
     },
     "execution_count": 42,
     "metadata": {},
     "output_type": "execute_result"
    },
    {
     "data": {
      "image/png": "[encoded data removed]",
      "text/plain": [
       "<Figure size 432x288 with 1 Axes>"
      ]
     },
     "metadata": {
      "needs_background": "light"
     },
     "output_type": "display_data"
    }
   ],
   "source": [
    "dataset[dataset['different_room_assigned'] == False].is_canceled.astype(int).hist()"
   ]
  },
  {
   "cell_type": "code",
   "execution_count": 45,
   "metadata": {},
   "outputs": [],
   "source": [
    "import scipy.stats\n",
    "\n",
    "dataset_00 = dataset.copy()\n",
    "dataset_00['different_room_assigned']= dataset_00['different_room_assigned'].replace(True,1)\n",
    "dataset_00['different_room_assigned']= dataset_00['different_room_assigned'].replace(False,0)\n",
    "dataset_00['is_canceled']= dataset_00['is_canceled'].replace(True,1)\n",
    "dataset_00['is_canceled']= dataset_00['is_canceled'].replace(False,0)\n",
    "\n",
    "x = dataset_00['different_room_assigned']\n",
    "y = dataset_00['is_canceled']\n",
    "\n",
    "r = scipy.stats.pearsonr(x, y)    # Pearson's r\n",
    "rho = scipy.stats.spearmanr(x, y)   # Spearman's rho\n",
    "tau = scipy.stats.kendalltau(x, y)  # Kendall's tau"
   ]
  },
  {
   "cell_type": "code",
   "execution_count": 46,
   "metadata": {},
   "outputs": [
    {
     "name": "stdout",
     "output_type": "stream",
     "text": [
      "(-0.21134217527402002, 0.0)\n",
      "SpearmanrResult(correlation=-0.21134217527401758, pvalue=0.0)\n",
      "KendalltauResult(correlation=-0.21134217527401758, pvalue=0.0)\n"
     ]
    }
   ],
   "source": [
    "print(r)\n",
    "print(rho)\n",
    "print(tau)"
   ]
  },
  {
   "cell_type": "markdown",
   "metadata": {},
   "source": [
    "pssss... be careful, we are visualizing this distribution: \n",
    "\n",
    "$$ P \\ ( \\ is \\ canceled \\ | \\ different \\ room \\ assigned \\  ) $$\n",
    "\n",
    "this is not the distribution that we want to calculte, is just only to gain intuition"
   ]
  },
  {
   "cell_type": "code",
   "execution_count": 22,
   "metadata": {},
   "outputs": [],
   "source": [
    "dataset_copy = dataset.copy(deep=True)"
   ]
  },
  {
   "cell_type": "markdown",
   "metadata": {},
   "source": [
    "A very naive explanation could be that changing the room makes the cancellations go down... True or false?"
   ]
  },
  {
   "cell_type": "markdown",
   "metadata": {},
   "source": [
    "## Calculating Expected Counts\n",
    "\n",
    "First, is there any kind of relation between the **outcome (is_cancelled)** and the **treatment (different_room_assigned)** easy to find?\n",
    "\n",
    "Let's do a couple of computations:\n",
    "\n",
    "Since the number of number of cancellations and the number of times a different room was assigned is heavily imbalanced, we first choose 1000 observations at random to see that in how many cases do the variables; *'is_cancelled'* & *'different_room_assigned'* attain the same values. This whole process is then repeated 10000 times and the expected count turns out to be near 50% (i.e. the probability of these two variables attaining the same value at random)."
   ]
  },
  {
   "cell_type": "code",
   "execution_count": 23,
   "metadata": {},
   "outputs": [
    {
     "data": {
      "image/png": "[encoded data removed]",
      "text/latex": [
       "$\\displaystyle 588.6562$"
      ],
      "text/plain": [
       "588.6562"
      ]
     },
     "execution_count": 23,
     "metadata": {},
     "output_type": "execute_result"
    }
   ],
   "source": [
    "counts_sum=0\n",
    "for i in range(1,10000):\n",
    "        counts_i = 0\n",
    "        rdf = dataset.sample(1000)\n",
    "        counts_i = rdf[rdf[\"is_canceled\"]== rdf[\"different_room_assigned\"]].shape[0]\n",
    "        counts_sum+= counts_i\n",
    "counts_sum/10000"
   ]
  },
  {
   "cell_type": "markdown",
   "metadata": {},
   "source": [
    "So **statistically speaking**, we have **no definite conclusion** at this stage. \n",
    "\n",
    "**Thus assigning rooms different to what a customer had reserved during his booking earlier, may or may not lead to him/her cancelling that booking.**"
   ]
  },
  {
   "cell_type": "markdown",
   "metadata": {},
   "source": [
    "We now consider the scenario when there were no booking changes and recalculate the expected count."
   ]
  },
  {
   "cell_type": "code",
   "execution_count": 24,
   "metadata": {},
   "outputs": [
    {
     "data": {
      "image/png": "[encoded data removed]",
      "text/latex": [
       "$\\displaystyle 572.9291$"
      ],
      "text/plain": [
       "572.9291"
      ]
     },
     "execution_count": 24,
     "metadata": {},
     "output_type": "execute_result"
    }
   ],
   "source": [
    "# Expected Count when there are no booking changes \n",
    "counts_sum=0\n",
    "for i in range(1,10000):\n",
    "        counts_i = 0\n",
    "        rdf = dataset[dataset[\"booking_changes\"]==0].sample(1000)\n",
    "        counts_i = rdf[rdf[\"is_canceled\"]== rdf[\"different_room_assigned\"]].shape[0]\n",
    "        counts_sum+= counts_i\n",
    "counts_sum/10000"
   ]
  },
  {
   "cell_type": "markdown",
   "metadata": {},
   "source": [
    "In the 2nd case, we take the scenario when there were booking changes(>0) and recalculate the expected count."
   ]
  },
  {
   "cell_type": "code",
   "execution_count": 25,
   "metadata": {},
   "outputs": [
    {
     "data": {
      "image/png": "[encoded data removed]",
      "text/latex": [
       "$\\displaystyle 665.864$"
      ],
      "text/plain": [
       "665.864"
      ]
     },
     "execution_count": 25,
     "metadata": {},
     "output_type": "execute_result"
    }
   ],
   "source": [
    "# Expected Count when there are booking changes = 66.4%\n",
    "counts_sum=0\n",
    "for i in range(1,10000):\n",
    "        counts_i = 0\n",
    "        rdf = dataset[dataset[\"booking_changes\"]>0].sample(1000)\n",
    "        counts_i = rdf[rdf[\"is_canceled\"]== rdf[\"different_room_assigned\"]].shape[0]\n",
    "        counts_sum+= counts_i\n",
    "counts_sum/10000"
   ]
  },
  {
   "cell_type": "markdown",
   "metadata": {},
   "source": [
    "There is definitely some change happening when the number of booking changes are non-zero. So it gives us a hint that *Booking Changes* must be a confounding variable.\n",
    "\n",
    "But is *Booking Changes* the only confounding variable? What if there were some unobserved confounders, regarding which we have no information(feature) present in our dataset. Would we still be able to make the same claims as before?"
   ]
  },
  {
   "cell_type": "markdown",
   "metadata": {},
   "source": [
    "## Can we predict a cancellation?\n",
    "\n",
    "Maybe yes, but... knowing it would help me to understand if changing the room would affect the cancellations??"
   ]
  },
  {
   "cell_type": "markdown",
   "metadata": {},
   "source": [
    "<font size=\"6\">Part II: Enter *DoWhy*</font>"
   ]
  },
  {
   "cell_type": "markdown",
   "metadata": {},
   "source": [
    "## Step-1. Create a Causal Graph\n"
   ]
  },
  {
   "cell_type": "markdown",
   "metadata": {},
   "source": [
    "### Graphs in DoWhy\n",
    "\n",
    "There are two different methods to describe a graph in DoWhy:\n",
    "\n",
    " - [GML - Graph Modeling Language](https://github.com/GunterMueller/UNI_PASSAU_FMI_Graph_Drawing) (preferred) \n",
    "\n",
    " - [DOT](http://www.graphviz.org/documentation/) \n",
    " \n",
    "Take a look on this [notebook](https://microsoft.github.io/dowhy/example_notebooks/load_graph_example.html) to see some examples\n"
   ]
  },
  {
   "cell_type": "code",
   "execution_count": 29,
   "metadata": {},
   "outputs": [],
   "source": [
    "import graphviz\n",
    "causal_graph = \"\"\"digraph {\n",
    "different_room_assigned[label=\"Different Room Assigned\"];\n",
    "is_canceled[label=\"Booking Cancelled\"];\n",
    "booking_changes[label=\"Booking Changes\"];\n",
    "previous_bookings_not_canceled[label=\"Previous Booking Retentions\"];\n",
    "days_in_waiting_list[label=\"Days in Waitlist\"];\n",
    "lead_time[label=\"Lead Time\"];\n",
    "market_segment[label=\"Market Segment\"];\n",
    "country[label=\"Country\"];\n",
    "U[label=\"Unobserved Confounders\"];\n",
    "is_repeated_guest;\n",
    "total_stay;\n",
    "guests;\n",
    "meal;\n",
    "hotel;\n",
    "U->different_room_assigned; U->is_canceled; U->required_car_parking_spaces;\n",
    "market_segment -> lead_time;\n",
    "lead_time -> is_canceled; country -> lead_time;\n",
    "different_room_assigned -> is_canceled;\n",
    "country -> meal;\n",
    "lead_time -> days_in_waiting_list;\n",
    "days_in_waiting_list -> is_canceled;\n",
    "previous_bookings_not_canceled -> is_canceled;\n",
    "previous_bookings_not_canceled -> is_repeated_guest;\n",
    "is_repeated_guest -> is_canceled;\n",
    "total_stay -> is_canceled;\n",
    "guests -> is_canceled;\n",
    "booking_changes -> different_room_assigned; booking_changes -> is_canceled; \n",
    "hotel -> is_canceled;\n",
    "required_car_parking_spaces -> is_canceled;\n",
    "total_of_special_requests -> is_canceled;\n",
    "country->{hotel, required_car_parking_spaces,total_of_special_requests,is_canceled};\n",
    "market_segment->{hotel, required_car_parking_spaces,total_of_special_requests,is_canceled};\n",
    "}\"\"\""
   ]
  },
  {
   "cell_type": "markdown",
   "metadata": {},
   "source": [
    "### Important:\n",
    "\n",
    "- Here the *Treatment* is **change room**. *Outcome* would be whether the booking was cancelled or not.\n",
    "<br>\n",
    "<br>\n",
    "- *Common Causes* represent the variables that according to us have a causal affect on **both** *Outcome* and *Treatment*.\n",
    "<br>\n",
    "<br>\n",
    "- As per our causal assumptions, the 2 variables satisfying this criteria are *Booking Changes* and the *Unobserved Confounders*.\n",
    "\n",
    "\n",
    "Note: So if we are not specifying the graph explicitly (Not Recommended!), one can also provide these as parameters in the function mentioned below."
   ]
  },
  {
   "cell_type": "code",
   "execution_count": 30,
   "metadata": {},
   "outputs": [
    {
     "data": {
      "image/png": "[encoded data removed]",
      "text/plain": [
       "<IPython.core.display.Image object>"
      ]
     },
     "metadata": {
      "image/png": {
       "width": 2000
      }
     },
     "output_type": "display_data"
    }
   ],
   "source": [
    "model = dowhy.CausalModel(\n",
    "                          data = dataset,\n",
    "                          graph = causal_graph.replace(\"\\n\", \" \"),\n",
    "                          treatment = 'different_room_assigned',\n",
    "                          outcome = 'is_canceled')\n",
    "model.view_model()\n",
    "\n",
    "from IPython.display import Image, display\n",
    "display(Image(filename=\"causal_model.png\", width = 2000))"
   ]
  },
  {
   "cell_type": "markdown",
   "metadata": {},
   "source": [
    "## Step-2. Identify the Causal Effect\n",
    "\n",
    "Recall the Causal Effect definition: **Treatment causes Outcome if changing Treatment leads to a change in Outcome keeping everything else constant**.\n",
    "Thus in this step, by using properties of the causal graph, we identify the causal effect to be estimated\n",
    "\n",
    "To do that, DoWhy combines graph-based calculus and Pearl's do-calculus theory.\n",
    "\n",
    "The main methods supported by the package are:\n",
    "\n",
    "- Back-door criterion\n",
    "\n",
    "- Front-door criterion\n",
    "\n",
    "- Instrumental Variables\n",
    "\n",
    "- Mediation (Direct and indirect effect identification)\n",
    "\n",
    "Let's describe briefly the back-door criterion, since it is one of the most used \n",
    "\n",
    "### Backdoor criterion\n",
    "\n",
    "Following the do-calculus rules we can write the *Adjustement Formula*\n",
    "\n",
    "NOTE: don't look into the details, it is just informative\n",
    "\n",
    "The idea is: I can calculate the effect of an intervetion *( $ do(A) $ )* using observational data conditioning on the proper variables and assuming that the modified graph is consistent.\n",
    "\n",
    "<img src=\"./images/adjustement_formula.png\" alt=\"Causal Ggraph\" title=\"\" style=\"width: 600px\" align=\"left\"/>"
   ]
  },
  {
   "cell_type": "markdown",
   "metadata": {},
   "source": [
    "In other words: Intervening on **A** will have an effect on **B** that is *calculable from observational data* using the adjustment formula if we can find a **valid adjustment set Z**.\n",
    "\n",
    "One way to identify a valid adjustment (Z) set is using the **back-door criterion**:\n",
    "\n",
    "- Z blocks all paths between that A and B where the edge connected to A is directed at A.\n",
    "- no descendants of A are in Z\n",
    "\n",
    "\n",
    "Let's see some graph to illustrate the concept. Here the **X is the treatment** and **Y is the outcome**:"
   ]
  },
  {
   "cell_type": "markdown",
   "metadata": {},
   "source": [
    "Simple graph:\n",
    "\n",
    "<img src=\"./images/backdoor_1.png\" alt=\"Causal Ggraph\" title=\"\" style=\"width: 400px\"/>\n",
    "\n",
    "\n",
    "But this one:\n",
    "\n",
    "<img src=\"./images/backdoor_2.png\" alt=\"Causal Ggraph\" title=\"\" style=\"width: 400px\"/>\n",
    "\n",
    "Look into the possible paths:\n",
    "\n",
    "<img src=\"./images/backdoor_3.png\" alt=\"Causal Ggraph\" title=\"\" style=\"width: 800px\"/>"
   ]
  },
  {
   "cell_type": "code",
   "execution_count": 31,
   "metadata": {},
   "outputs": [
    {
     "name": "stdout",
     "output_type": "stream",
     "text": [
      "Estimand type: nonparametric-ate\n",
      "\n",
      "### Estimand : 1\n",
      "Estimand name: backdoor\n",
      "Estimand expression:\n",
      "            d                                                                 \n",
      "──────────────────────────(Expectation(is_canceled|meal,booking_changes,previo\n",
      "d[different_room_assigned]                                                    \n",
      "\n",
      "                                                                              \n",
      "us_bookings_not_canceled,country,days_in_waiting_list,hotel,required_car_parki\n",
      "                                                                              \n",
      "\n",
      "                                                                              \n",
      "ng_spaces,lead_time,guests,total_of_special_requests,total_stay,market_segment\n",
      "                                                                              \n",
      "\n",
      "                    \n",
      ",is_repeated_guest))\n",
      "                    \n",
      "Estimand assumption 1, Unconfoundedness: If U→{different_room_assigned} and U→is_canceled then P(is_canceled|different_room_assigned,meal,booking_changes,previous_bookings_not_canceled,country,days_in_waiting_list,hotel,required_car_parking_spaces,lead_time,guests,total_of_special_requests,total_stay,market_segment,is_repeated_guest,U) = P(is_canceled|different_room_assigned,meal,booking_changes,previous_bookings_not_canceled,country,days_in_waiting_list,hotel,required_car_parking_spaces,lead_time,guests,total_of_special_requests,total_stay,market_segment,is_repeated_guest)\n",
      "\n",
      "### Estimand : 2\n",
      "Estimand name: iv\n",
      "No such variable found!\n",
      "\n",
      "### Estimand : 3\n",
      "Estimand name: frontdoor\n",
      "No such variable found!\n",
      "\n"
     ]
    }
   ],
   "source": [
    "import statsmodels\n",
    "model= dowhy.CausalModel(\n",
    "        data = dataset,\n",
    "        graph = causal_graph.replace(\"\\n\", \" \"),\n",
    "        treatment = \"different_room_assigned\",\n",
    "        outcome = 'is_canceled')\n",
    "\n",
    "#Identify the causal effect\n",
    "identified_estimand = model.identify_effect(proceed_when_unidentifiable=True)\n",
    "print(identified_estimand)"
   ]
  },
  {
   "cell_type": "markdown",
   "metadata": {},
   "source": [
    "## Step-3. Estimate the identified estimand"
   ]
  },
  {
   "cell_type": "markdown",
   "metadata": {},
   "source": [
    "Once we have found strategies for identifying causal quantities, we need to choose how to estimate those causal quantities using statistical methods. After identification, estimation is the process of computing this quantity using available data.\n",
    "\n",
    "A lot of different methods has been developed in order to estimate the identified estimad. Let's see a couple of them.\n"
   ]
  },
  {
   "cell_type": "markdown",
   "metadata": {},
   "source": [
    "### Balance-based methods: simple stratification\n",
    "\n",
    "For observational data, one of the most popular strategies to obtain an estimator is to directly approximate the back-door criterion.\n",
    "\n",
    "To estimate the above expression, we need to create data subsets where **w** is constant. \n",
    "\n",
    "Balance-based methods try to attain covariate balance given the observed data so that the above equation can be estimated.\n",
    "\n",
    "We can re-visit the backdoor estimand balance-based:"
   ]
  },
  {
   "cell_type": "markdown",
   "metadata": {},
   "source": [
    "<img src=\"./images/balance-based backdoor.png\" alt=\"\" style=\"width: 600px\" align=\"left\" title=\"\" />\n"
   ]
  },
  {
   "cell_type": "markdown",
   "metadata": {},
   "source": [
    "A straight-forward way to estimate the back-door estimand is to estimate the conditional probabilities directly"
   ]
  },
  {
   "cell_type": "markdown",
   "metadata": {},
   "source": [
    "<img src=\"./images/simple_stratification.png\" alt=\"\" title=\"\" style=\"width: 600px\" align=\"left\"/>"
   ]
  },
  {
   "cell_type": "markdown",
   "metadata": {},
   "source": [
    "Effectively, the method divides data into different strata, each having the same value of **w**. Then these estimates are summed up weighted by the number of data points in each strata, leading to a weighted average of the strata effects."
   ]
  },
  {
   "cell_type": "markdown",
   "metadata": {},
   "source": [
    "### Matching\n",
    "\n",
    "When exact conditioning on **w** is not possible, either due to high-dimensionality or continuous variables, we can find units with as similar **w** as possible. A simple way is to define a metric of distance between any two units based on their **w** values."
   ]
  },
  {
   "cell_type": "markdown",
   "metadata": {},
   "source": [
    "### Propensity-based methods: propensity score\n",
    "\n",
    "Ok, the real objetive is be able to make the *treatment t* independent of the confounders *w*. In the balance-based methods we are conditioning in the way that all the examples there have the same value of *w*, making them the treatment independent. Within the strate or pair, *t⫫w* and the units are said to be *balanced*.\n",
    "\n",
    "There are alternative ways of ensuring balance that are effective for high-dimensional confounders.\n",
    "\n",
    "More generally, any function  $ b: \\Re^W \\to \\Re^K $\n",
    "\n",
    "that ensures that *t* and *w* are independent\n",
    "\n",
    "(i.e. given $ \\ b(w) $ then, $ t⫫w \\ | \\ b(w) $ )\n",
    "\n",
    "is called a **balancing function**.\n",
    "\n",
    "Given a balancing score, the backdoor estimation equation can be rewritten as:"
   ]
  },
  {
   "cell_type": "markdown",
   "metadata": {},
   "source": [
    "<img src=\"./images/propensity_score_1.png\" alt=\"\" title=\"\" align=\"left\" style=\"width: 600px\" />"
   ]
  },
  {
   "cell_type": "markdown",
   "metadata": {},
   "source": [
    "The most common balancing score is the propensity score, $ ps(w) = P( \\ t \\ | \\ W = w) $, so called because it defines the propensity of treatment given values of $w$."
   ]
  },
  {
   "cell_type": "markdown",
   "metadata": {},
   "source": [
    "**In most cases the propensity score needs to be estimated**. Since both $t$ and $w$ are observed, it can be estimated using any supervised learning algorithm that returns a probability estimate of different outcome values."
   ]
  },
  {
   "cell_type": "code",
   "execution_count": 32,
   "metadata": {},
   "outputs": [
    {
     "name": "stdout",
     "output_type": "stream",
     "text": [
      "*** Causal Estimate ***\n",
      "\n",
      "## Identified estimand\n",
      "Estimand type: nonparametric-ate\n",
      "\n",
      "### Estimand : 1\n",
      "Estimand name: backdoor\n",
      "Estimand expression:\n",
      "            d                                                                 \n",
      "──────────────────────────(Expectation(is_canceled|meal,booking_changes,previo\n",
      "d[different_room_assigned]                                                    \n",
      "\n",
      "                                                                              \n",
      "us_bookings_not_canceled,country,days_in_waiting_list,hotel,required_car_parki\n",
      "                                                                              \n",
      "\n",
      "                                                                              \n",
      "ng_spaces,lead_time,guests,total_of_special_requests,total_stay,market_segment\n",
      "                                                                              \n",
      "\n",
      "                    \n",
      ",is_repeated_guest))\n",
      "                    \n",
      "Estimand assumption 1, Unconfoundedness: If U→{different_room_assigned} and U→is_canceled then P(is_canceled|different_room_assigned,meal,booking_changes,previous_bookings_not_canceled,country,days_in_waiting_list,hotel,required_car_parking_spaces,lead_time,guests,total_of_special_requests,total_stay,market_segment,is_repeated_guest,U) = P(is_canceled|different_room_assigned,meal,booking_changes,previous_bookings_not_canceled,country,days_in_waiting_list,hotel,required_car_parking_spaces,lead_time,guests,total_of_special_requests,total_stay,market_segment,is_repeated_guest)\n",
      "\n",
      "## Realized estimand\n",
      "b: is_canceled~different_room_assigned+meal+booking_changes+previous_bookings_not_canceled+country+days_in_waiting_list+hotel+required_car_parking_spaces+lead_time+guests+total_of_special_requests+total_stay+market_segment+is_repeated_guest\n",
      "Target units: ate\n",
      "\n",
      "## Estimate\n",
      "Mean value: -0.2508941738490286\n",
      "\n"
     ]
    }
   ],
   "source": [
    "estimate = model.estimate_effect(identified_estimand, \n",
    "                                 method_name=\"backdoor.propensity_score_stratification\",\n",
    "                                 target_units=\"ate\")\n",
    "# ATE = Average Treatment Effect\n",
    "# ATT = Average Treatment Effect on Treated (i.e. those who were assigned a different room)\n",
    "# ATC = Average Treatment Effect on Control (i.e. those who were not assigned a different room)\n",
    "print(estimate)"
   ]
  },
  {
   "cell_type": "markdown",
   "metadata": {},
   "source": [
    "It means that having a different room assigned _decreases_ the chances of a cancellation. There's more to unpack here:\n",
    "\n",
    "- Is this the correct causal effect? \n",
    "- Could it be that different rooms are assigned only when the booked room is unavailable, and therefore assigning a different room has a positive effect on the customer (as opposed to not assigning a room)?\n",
    "\n",
    "There could also be other mechanisms at play:\n",
    "- Perhaps assigning a different room only happens at check-in, and the chances of a cancellation once the customer is already at the hotel are low? In that case, the graph is missing a critical variable on _when_ these events happen. \n",
    "- Does `different_room_assigned` happen mostly on the day of the booking? Knowing that variable can help improve the graph and our analysis. \n",
    "\n",
    "Estimating the causal effect using DoWhy implies that a decision/policy to **reduce the number** of `different_room_assigned` at hotels may be counter-productive.\n",
    "\n",
    "Why do you think that makes the causal effect so close to the associational one?"
   ]
  },
  {
   "cell_type": "code",
   "execution_count": 33,
   "metadata": {},
   "outputs": [
    {
     "name": "stdout",
     "output_type": "stream",
     "text": [
      "*** Causal Estimate ***\n",
      "\n",
      "## Identified estimand\n",
      "Estimand type: nonparametric-ate\n",
      "\n",
      "### Estimand : 1\n",
      "Estimand name: backdoor\n",
      "Estimand expression:\n",
      "            d                                                                 \n",
      "──────────────────────────(Expectation(is_canceled|meal,booking_changes,previo\n",
      "d[different_room_assigned]                                                    \n",
      "\n",
      "                                                                              \n",
      "us_bookings_not_canceled,country,days_in_waiting_list,hotel,required_car_parki\n",
      "                                                                              \n",
      "\n",
      "                                                                              \n",
      "ng_spaces,lead_time,guests,total_of_special_requests,total_stay,market_segment\n",
      "                                                                              \n",
      "\n",
      "                    \n",
      ",is_repeated_guest))\n",
      "                    \n",
      "Estimand assumption 1, Unconfoundedness: If U→{different_room_assigned} and U→is_canceled then P(is_canceled|different_room_assigned,meal,booking_changes,previous_bookings_not_canceled,country,days_in_waiting_list,hotel,required_car_parking_spaces,lead_time,guests,total_of_special_requests,total_stay,market_segment,is_repeated_guest,U) = P(is_canceled|different_room_assigned,meal,booking_changes,previous_bookings_not_canceled,country,days_in_waiting_list,hotel,required_car_parking_spaces,lead_time,guests,total_of_special_requests,total_stay,market_segment,is_repeated_guest)\n",
      "\n",
      "## Realized estimand\n",
      "b: is_canceled~different_room_assigned+meal+booking_changes+previous_bookings_not_canceled+country+days_in_waiting_list+hotel+required_car_parking_spaces+lead_time+guests+total_of_special_requests+total_stay+market_segment+is_repeated_guest\n",
      "Target units: ate\n",
      "\n",
      "## Estimate\n",
      "Mean value: -0.24589772260290338\n",
      "\n",
      "Causal Estimate is -0.24589772260290338\n"
     ]
    }
   ],
   "source": [
    "causal_estimate_dmatch = model.estimate_effect(identified_estimand,\n",
    "                                              method_name=\"backdoor.propensity_score_matching\",\n",
    "                                              target_units=\"ate\"\n",
    "                                              )\n",
    "print(causal_estimate_dmatch)\n",
    "print(\"Causal Estimate is \" + str(causal_estimate_dmatch.value))"
   ]
  },
  {
   "cell_type": "markdown",
   "metadata": {},
   "source": [
    "### Double ML\n",
    "\n",
    "We can find a good explanation about the Double ML [here](https://econml.azurewebsites.net/spec/estimation/dml.html)\n",
    "\n",
    "The main idea: \n",
    "\n",
    "Reduce the problem to first estimating two predictive tasks:\n",
    "\n",
    "1. predicting the outcome from the controls,\n",
    "\n",
    "2. predicting the treatment from the controls;\n",
    "\n",
    "Then the method combines these two predictive models in a final stage estimation so as to create a model of the heterogeneous treatment effect.\n",
    "\n",
    "With them we can compute the residuals:"
   ]
  },
  {
   "cell_type": "markdown",
   "metadata": {},
   "source": [
    "<img src=\"./images/dml_residuals.png\" alt=\"\" title=\"\" style=\"width: 400px\" align=\"left\"/>"
   ]
  },
  {
   "cell_type": "markdown",
   "metadata": {},
   "source": [
    "In other words, the two residuals $r_t$ and $r_y$ represent the part of the treatment and outcome respectively that are not explained by the variation due to $w$. \n",
    "\n",
    "In other words, $r_t$ and $r_y$ are the *unconfounded* parts of the treatment and outcome.\n",
    "\n",
    "A simple predictive model on these residual variables should yield the effect of treatment on the outcome."
   ]
  },
  {
   "cell_type": "markdown",
   "metadata": {},
   "source": [
    "<img src=\"./images/dml_final_model.png\" alt=\"\" title=\"\" style=\"width: 400px\" align=\"left\"/>"
   ]
  },
  {
   "cell_type": "code",
   "execution_count": 34,
   "metadata": {},
   "outputs": [
    {
     "name": "stdout",
     "output_type": "stream",
     "text": [
      "*** Causal Estimate ***\n",
      "\n",
      "## Identified estimand\n",
      "Estimand type: nonparametric-ate\n",
      "\n",
      "### Estimand : 1\n",
      "Estimand name: backdoor\n",
      "Estimand expression:\n",
      "            d                                                                 \n",
      "──────────────────────────(Expectation(is_canceled|meal,booking_changes,previo\n",
      "d[different_room_assigned]                                                    \n",
      "\n",
      "                                                                              \n",
      "us_bookings_not_canceled,country,days_in_waiting_list,hotel,required_car_parki\n",
      "                                                                              \n",
      "\n",
      "                                                                              \n",
      "ng_spaces,lead_time,guests,total_of_special_requests,total_stay,market_segment\n",
      "                                                                              \n",
      "\n",
      "                    \n",
      ",is_repeated_guest))\n",
      "                    \n",
      "Estimand assumption 1, Unconfoundedness: If U→{different_room_assigned} and U→is_canceled then P(is_canceled|different_room_assigned,meal,booking_changes,previous_bookings_not_canceled,country,days_in_waiting_list,hotel,required_car_parking_spaces,lead_time,guests,total_of_special_requests,total_stay,market_segment,is_repeated_guest,U) = P(is_canceled|different_room_assigned,meal,booking_changes,previous_bookings_not_canceled,country,days_in_waiting_list,hotel,required_car_parking_spaces,lead_time,guests,total_of_special_requests,total_stay,market_segment,is_repeated_guest)\n",
      "\n",
      "## Realized estimand\n",
      "b: is_canceled~different_room_assigned+meal+booking_changes+previous_bookings_not_canceled+country+days_in_waiting_list+hotel+required_car_parking_spaces+lead_time+guests+total_of_special_requests+total_stay+market_segment+is_repeated_guest | hotel,previous_bookings_not_canceled,required_car_parking_spaces,days_in_waiting_list,country,lead_time,guests,total_stay,total_of_special_requests,market_segment,is_repeated_guest\n",
      "Target units: ate\n",
      "\n",
      "## Estimate\n",
      "Mean value: -0.15246245692767169\n",
      "Effect estimates: [-0.26276104 -0.43767572 -0.0368168  ... -0.14319959 -0.17641124\n",
      " -0.21892215]\n",
      "\n"
     ]
    }
   ],
   "source": [
    "\n",
    "from sklearn.preprocessing import PolynomialFeatures\n",
    "from sklearn.linear_model import LassoCV\n",
    "from sklearn.ensemble import GradientBoostingRegressor\n",
    "dml_estimate = model.estimate_effect(identified_estimand, method_name=\"backdoor.econml.dml.DML\",\n",
    "                                     control_value = 0,\n",
    "                                     treatment_value = 1,\n",
    "                                     target_units = 'ate',\n",
    "                                     confidence_intervals=False,\n",
    "                                     method_params={\"init_params\":{'model_y': GradientBoostingRegressor(),\n",
    "                                                                   'model_t': GradientBoostingRegressor(),\n",
    "                                                                   'model_final': LassoCV(fit_intercept=False), \n",
    "                                                                   'featurizer': PolynomialFeatures(degree=1, include_bias=False)},\n",
    "                                                    \"fit_params\":{}\n",
    "                                                   }\n",
    "                                    )\n",
    "print(dml_estimate)"
   ]
  },
  {
   "cell_type": "code",
   "execution_count": 35,
   "metadata": {},
   "outputs": [
    {
     "name": "stdout",
     "output_type": "stream",
     "text": [
      "104637\n",
      "-0.15246245692767169\n"
     ]
    }
   ],
   "source": [
    "print(len(dml_estimate.cate_estimates))\n",
    "print(np.mean(dml_estimate.cate_estimates))"
   ]
  },
  {
   "cell_type": "markdown",
   "metadata": {},
   "source": [
    "###  Doubly robust ( too good to be real )\n",
    "\n",
    "Doubly Robust Learning, similar to Double Machine Learning, is a method for estimating (heterogeneous) treatment effects *when the treatment is categorical* and all potential confounders/controls are observed, but are either too many (high-dimensional) for classical statistical approaches to be applicable or their effect on the treatment and outcome cannot be satisfactorily modeled by parametric functions (non-parametric).\n",
    "\n",
    "Doubly robust is a generic method that given two possibly faulty ways of estimating a quantity, a doubly robust estimator guarantees an unbiased estimate, whenever one of them is correct.\n",
    "\n",
    "Nice, right? \n",
    "\n",
    "It reduces the problem to first estimating two **predictive tasks**:\n",
    "\n",
    "1. predicting the outcome from the treatment and controls\n",
    "\n",
    "2. predicting the treatment from the controls\n",
    "\n",
    "Then, we can create a new estimate (in a very smart way) that is able to do the estimation even if one of the other estimates fails. \n",
    "\n",
    "How: Let's go through a good explanation from [here](https://econml.azurewebsites.net/spec/estimation/dr.html) and [here](http://www.amitsharma.in/post/doubly-robust-estimation-a-simple-guide/).\n",
    "\n"
   ]
  },
  {
   "cell_type": "code",
   "execution_count": 36,
   "metadata": {},
   "outputs": [
    {
     "data": {
      "text/html": [
       "<div>\n",
       "<style scoped>\n",
       "    .dataframe tbody tr th:only-of-type {\n",
       "        vertical-align: middle;\n",
       "    }\n",
       "\n",
       "    .dataframe tbody tr th {\n",
       "        vertical-align: top;\n",
       "    }\n",
       "\n",
       "    .dataframe thead th {\n",
       "        text-align: right;\n",
       "    }\n",
       "</style>\n",
       "<table border=\"1\" class=\"dataframe\">\n",
       "  <thead>\n",
       "    <tr style=\"text-align: right;\">\n",
       "      <th></th>\n",
       "      <th>hotel</th>\n",
       "      <th>is_canceled</th>\n",
       "      <th>lead_time</th>\n",
       "      <th>arrival_date_month</th>\n",
       "      <th>arrival_date_week_number</th>\n",
       "      <th>meal</th>\n",
       "      <th>country</th>\n",
       "      <th>market_segment</th>\n",
       "      <th>is_repeated_guest</th>\n",
       "      <th>previous_cancellations</th>\n",
       "      <th>...</th>\n",
       "      <th>required_car_parking_spaces</th>\n",
       "      <th>total_of_special_requests</th>\n",
       "      <th>total_stay</th>\n",
       "      <th>guests</th>\n",
       "      <th>different_room_assigned</th>\n",
       "      <th>propensity_score</th>\n",
       "      <th>strata</th>\n",
       "      <th>dbar</th>\n",
       "      <th>d_y</th>\n",
       "      <th>dbar_y</th>\n",
       "    </tr>\n",
       "  </thead>\n",
       "  <tbody>\n",
       "    <tr>\n",
       "      <th>0</th>\n",
       "      <td>Resort Hotel</td>\n",
       "      <td>False</td>\n",
       "      <td>342</td>\n",
       "      <td>July</td>\n",
       "      <td>27</td>\n",
       "      <td>BB</td>\n",
       "      <td>PRT</td>\n",
       "      <td>Direct</td>\n",
       "      <td>0</td>\n",
       "      <td>0</td>\n",
       "      <td>...</td>\n",
       "      <td>0</td>\n",
       "      <td>0</td>\n",
       "      <td>0</td>\n",
       "      <td>2.0</td>\n",
       "      <td>False</td>\n",
       "      <td>0.245399</td>\n",
       "      <td>42.0</td>\n",
       "      <td>1</td>\n",
       "      <td>False</td>\n",
       "      <td>0</td>\n",
       "    </tr>\n",
       "    <tr>\n",
       "      <th>1</th>\n",
       "      <td>Resort Hotel</td>\n",
       "      <td>False</td>\n",
       "      <td>737</td>\n",
       "      <td>July</td>\n",
       "      <td>27</td>\n",
       "      <td>BB</td>\n",
       "      <td>PRT</td>\n",
       "      <td>Direct</td>\n",
       "      <td>0</td>\n",
       "      <td>0</td>\n",
       "      <td>...</td>\n",
       "      <td>0</td>\n",
       "      <td>0</td>\n",
       "      <td>0</td>\n",
       "      <td>2.0</td>\n",
       "      <td>False</td>\n",
       "      <td>0.104069</td>\n",
       "      <td>23.0</td>\n",
       "      <td>1</td>\n",
       "      <td>False</td>\n",
       "      <td>0</td>\n",
       "    </tr>\n",
       "    <tr>\n",
       "      <th>2</th>\n",
       "      <td>Resort Hotel</td>\n",
       "      <td>False</td>\n",
       "      <td>7</td>\n",
       "      <td>July</td>\n",
       "      <td>27</td>\n",
       "      <td>BB</td>\n",
       "      <td>GBR</td>\n",
       "      <td>Direct</td>\n",
       "      <td>0</td>\n",
       "      <td>0</td>\n",
       "      <td>...</td>\n",
       "      <td>0</td>\n",
       "      <td>0</td>\n",
       "      <td>1</td>\n",
       "      <td>1.0</td>\n",
       "      <td>True</td>\n",
       "      <td>0.274921</td>\n",
       "      <td>45.0</td>\n",
       "      <td>0</td>\n",
       "      <td>False</td>\n",
       "      <td>0</td>\n",
       "    </tr>\n",
       "    <tr>\n",
       "      <th>3</th>\n",
       "      <td>Resort Hotel</td>\n",
       "      <td>False</td>\n",
       "      <td>13</td>\n",
       "      <td>July</td>\n",
       "      <td>27</td>\n",
       "      <td>BB</td>\n",
       "      <td>GBR</td>\n",
       "      <td>Corporate</td>\n",
       "      <td>0</td>\n",
       "      <td>0</td>\n",
       "      <td>...</td>\n",
       "      <td>0</td>\n",
       "      <td>0</td>\n",
       "      <td>1</td>\n",
       "      <td>1.0</td>\n",
       "      <td>False</td>\n",
       "      <td>0.411268</td>\n",
       "      <td>49.0</td>\n",
       "      <td>1</td>\n",
       "      <td>False</td>\n",
       "      <td>0</td>\n",
       "    </tr>\n",
       "    <tr>\n",
       "      <th>4</th>\n",
       "      <td>Resort Hotel</td>\n",
       "      <td>False</td>\n",
       "      <td>14</td>\n",
       "      <td>July</td>\n",
       "      <td>27</td>\n",
       "      <td>BB</td>\n",
       "      <td>GBR</td>\n",
       "      <td>Online TA</td>\n",
       "      <td>0</td>\n",
       "      <td>0</td>\n",
       "      <td>...</td>\n",
       "      <td>0</td>\n",
       "      <td>1</td>\n",
       "      <td>2</td>\n",
       "      <td>2.0</td>\n",
       "      <td>False</td>\n",
       "      <td>0.215543</td>\n",
       "      <td>40.0</td>\n",
       "      <td>1</td>\n",
       "      <td>False</td>\n",
       "      <td>0</td>\n",
       "    </tr>\n",
       "  </tbody>\n",
       "</table>\n",
       "<p>5 rows × 26 columns</p>\n",
       "</div>"
      ],
      "text/plain": [
       "          hotel  is_canceled  lead_time arrival_date_month  \\\n",
       "0  Resort Hotel        False        342               July   \n",
       "1  Resort Hotel        False        737               July   \n",
       "2  Resort Hotel        False          7               July   \n",
       "3  Resort Hotel        False         13               July   \n",
       "4  Resort Hotel        False         14               July   \n",
       "\n",
       "   arrival_date_week_number meal country market_segment  is_repeated_guest  \\\n",
       "0                        27   BB     PRT         Direct                  0   \n",
       "1                        27   BB     PRT         Direct                  0   \n",
       "2                        27   BB     GBR         Direct                  0   \n",
       "3                        27   BB     GBR      Corporate                  0   \n",
       "4                        27   BB     GBR      Online TA                  0   \n",
       "\n",
       "   previous_cancellations  ...  required_car_parking_spaces  \\\n",
       "0                       0  ...                            0   \n",
       "1                       0  ...                            0   \n",
       "2                       0  ...                            0   \n",
       "3                       0  ...                            0   \n",
       "4                       0  ...                            0   \n",
       "\n",
       "   total_of_special_requests total_stay  guests different_room_assigned  \\\n",
       "0                          0          0     2.0                   False   \n",
       "1                          0          0     2.0                   False   \n",
       "2                          0          1     1.0                    True   \n",
       "3                          0          1     1.0                   False   \n",
       "4                          1          2     2.0                   False   \n",
       "\n",
       "   propensity_score  strata  dbar    d_y  dbar_y  \n",
       "0          0.245399    42.0     1  False       0  \n",
       "1          0.104069    23.0     1  False       0  \n",
       "2          0.274921    45.0     0  False       0  \n",
       "3          0.411268    49.0     1  False       0  \n",
       "4          0.215543    40.0     1  False       0  \n",
       "\n",
       "[5 rows x 26 columns]"
      ]
     },
     "execution_count": 36,
     "metadata": {},
     "output_type": "execute_result"
    }
   ],
   "source": [
    "dataset.head()"
   ]
  },
  {
   "cell_type": "code",
   "execution_count": 37,
   "metadata": {},
   "outputs": [],
   "source": [
    "dataset_01 = dataset.copy()\n",
    "dataset_01['different_room_assigned']= dataset_01['different_room_assigned'].replace(True,1)\n",
    "dataset_01['different_room_assigned']= dataset_01['different_room_assigned'].replace(False,0)\n",
    "dataset_01['is_canceled']= dataset_01['is_canceled'].replace(True,1)\n",
    "dataset_01['is_canceled']= dataset_01['is_canceled'].replace(False,0)"
   ]
  },
  {
   "cell_type": "code",
   "execution_count": 38,
   "metadata": {},
   "outputs": [
    {
     "name": "stdout",
     "output_type": "stream",
     "text": [
      "Estimand type: nonparametric-ate\n",
      "\n",
      "### Estimand : 1\n",
      "Estimand name: backdoor\n",
      "Estimand expression:\n",
      "            d                                                                 \n",
      "──────────────────────────(Expectation(is_canceled|meal,booking_changes,previo\n",
      "d[different_room_assigned]                                                    \n",
      "\n",
      "                                                                              \n",
      "us_bookings_not_canceled,country,days_in_waiting_list,hotel,required_car_parki\n",
      "                                                                              \n",
      "\n",
      "                                                                              \n",
      "ng_spaces,lead_time,guests,total_of_special_requests,total_stay,market_segment\n",
      "                                                                              \n",
      "\n",
      "                    \n",
      ",is_repeated_guest))\n",
      "                    \n",
      "Estimand assumption 1, Unconfoundedness: If U→{different_room_assigned} and U→is_canceled then P(is_canceled|different_room_assigned,meal,booking_changes,previous_bookings_not_canceled,country,days_in_waiting_list,hotel,required_car_parking_spaces,lead_time,guests,total_of_special_requests,total_stay,market_segment,is_repeated_guest,U) = P(is_canceled|different_room_assigned,meal,booking_changes,previous_bookings_not_canceled,country,days_in_waiting_list,hotel,required_car_parking_spaces,lead_time,guests,total_of_special_requests,total_stay,market_segment,is_repeated_guest)\n",
      "\n",
      "### Estimand : 2\n",
      "Estimand name: iv\n",
      "No such variable found!\n",
      "\n",
      "### Estimand : 3\n",
      "Estimand name: frontdoor\n",
      "No such variable found!\n",
      "\n"
     ]
    }
   ],
   "source": [
    "model_dr = dowhy.CausalModel(\n",
    "                            data = dataset_01,\n",
    "                            graph = causal_graph.replace(\"\\n\", \" \"),\n",
    "                            treatment = 'different_room_assigned',\n",
    "                            outcome = 'is_canceled'\n",
    "                            )\n",
    "\n",
    "#Identify the causal effect\n",
    "identified_estimand_dr = model_dr.identify_effect(proceed_when_unidentifiable=True)\n",
    "print(identified_estimand_dr)"
   ]
  },
  {
   "cell_type": "code",
   "execution_count": 39,
   "metadata": {},
   "outputs": [
    {
     "name": "stdout",
     "output_type": "stream",
     "text": [
      "*** Causal Estimate ***\n",
      "\n",
      "## Identified estimand\n",
      "Estimand type: nonparametric-ate\n",
      "\n",
      "### Estimand : 1\n",
      "Estimand name: backdoor\n",
      "Estimand expression:\n",
      "            d                                                                 \n",
      "──────────────────────────(Expectation(is_canceled|meal,booking_changes,previo\n",
      "d[different_room_assigned]                                                    \n",
      "\n",
      "                                                                              \n",
      "us_bookings_not_canceled,country,days_in_waiting_list,hotel,required_car_parki\n",
      "                                                                              \n",
      "\n",
      "                                                                              \n",
      "ng_spaces,lead_time,guests,total_of_special_requests,total_stay,market_segment\n",
      "                                                                              \n",
      "\n",
      "                    \n",
      ",is_repeated_guest))\n",
      "                    \n",
      "Estimand assumption 1, Unconfoundedness: If U→{different_room_assigned} and U→is_canceled then P(is_canceled|different_room_assigned,meal,booking_changes,previous_bookings_not_canceled,country,days_in_waiting_list,hotel,required_car_parking_spaces,lead_time,guests,total_of_special_requests,total_stay,market_segment,is_repeated_guest,U) = P(is_canceled|different_room_assigned,meal,booking_changes,previous_bookings_not_canceled,country,days_in_waiting_list,hotel,required_car_parking_spaces,lead_time,guests,total_of_special_requests,total_stay,market_segment,is_repeated_guest)\n",
      "\n",
      "## Realized estimand\n",
      "b: is_canceled~different_room_assigned+meal+booking_changes+previous_bookings_not_canceled+country+days_in_waiting_list+hotel+required_car_parking_spaces+lead_time+guests+total_of_special_requests+total_stay+market_segment+is_repeated_guest | hotel,previous_bookings_not_canceled,required_car_parking_spaces,days_in_waiting_list,country,lead_time,guests,total_stay,total_of_special_requests,market_segment,is_repeated_guest\n",
      "Target units: ate\n",
      "\n",
      "## Estimate\n",
      "Mean value: -0.2255568327431743\n",
      "Effect estimates: [-0.59823488 -0.57603094 -0.09221075 ... -0.12931895 -0.44470967\n",
      " -0.18125823]\n",
      "\n"
     ]
    }
   ],
   "source": [
    "from sklearn.preprocessing import PolynomialFeatures\n",
    "from sklearn.linear_model import LassoCV\n",
    "from sklearn.ensemble import RandomForestRegressor, RandomForestClassifier, GradientBoostingRegressor\n",
    "\n",
    "n = dataset_01.shape[0]\n",
    "min_samples_leaf = int(n/100)\n",
    "\n",
    "dr_estimate = model.estimate_effect(identified_estimand_dr, method_name=\"backdoor.econml.dr.DRLearner\",\n",
    "                                     control_value = 0,\n",
    "                                     treatment_value = 1,\n",
    "                                     target_units = \"ate\", \n",
    "                                     confidence_intervals=False,\n",
    "                                     method_params={\"init_params\":{\n",
    "                                         'model_regression':GradientBoostingRegressor(n_estimators=100,\n",
    "                                                                                      max_depth=6,\n",
    "                                                                                      min_samples_leaf=min_samples_leaf),\n",
    "                                         'model_propensity': RandomForestClassifier(n_estimators=100,\n",
    "                                                                                    max_depth=6,\n",
    "                                                                                    min_samples_leaf=min_samples_leaf),\n",
    "                                         'model_final': GradientBoostingRegressor(n_estimators=100,\n",
    "                                                                                  max_depth=6,\n",
    "                                                                                  min_samples_leaf=min_samples_leaf),\n",
    "                                         'cv': 5,\n",
    "                                                           },\n",
    "                                                     \"fit_params\":{}})\n",
    "print(dr_estimate)"
   ]
  },
  {
   "cell_type": "markdown",
   "metadata": {},
   "source": [
    "## Step-4. Refute results\n",
    "\n",
    "Note that the causal part does not come from data. It comes from your *assumptions* that lead to *identification*. Data is simply used for statistical *estimation*. Thus it becomes critical to verify whether our assumptions were even correct in the first step or not!\n",
    "\n",
    "What happens when another common cause exists?\n",
    "What happens when the treatment itself was placebo?"
   ]
  },
  {
   "cell_type": "markdown",
   "metadata": {},
   "source": [
    "**Supported refutation methods**\n",
    "\n",
    "- **Add Random Common Cause:** Does the estimation method change its estimate after we add an independent random variable as a common cause to the dataset? (Hint: It should not)\n",
    "\n",
    "- **Placebo Treatment:** What happens to the estimated causal effect when we replace the true treatment variable with an independent random variable? (Hint: the effect should go to zero)\n",
    "\n",
    "- **Dummy Outcome:** What happens to the estimated causal effect when we replace the true outcome variable with an independent random variable? (Hint: The effect should go to zero)\n",
    "\n",
    "- **Simulated Outcome:** What happens to the estimated causal effect when we replace the dataset with a simulated dataset based on a known data-generating process closest to the given dataset? (Hint: It should match the effect parameter from the data-generating process)\n",
    "\n",
    "- **Add Unobserved Common Causes:** How sensitive is the effect estimate when we add an additional common cause (confounder) to the dataset that is correlated with the treatment and the outcome? (Hint: It should not be too sensitive)\n",
    "\n",
    "- **Data Subsets Validation:** Does the estimated effect change significantly when we replace the given dataset with a randomly selected subset? (Hint: It should not)\n",
    "\n",
    "- **Bootstrap Validation:** Does the estimated effect change significantly when we replace the given dataset with bootstrapped samples from the same dataset? (Hint: It should not)"
   ]
  },
  {
   "cell_type": "markdown",
   "metadata": {},
   "source": [
    "### Method-1\n",
    "**Radom Common Cause:-** *Adds randomly drawn covariates to data and re-runs the analysis to see if the causal estimate changes or not. If our assumption was originally correct then the causal estimate shouldn't change by much.*"
   ]
  },
  {
   "cell_type": "code",
   "execution_count": 36,
   "metadata": {},
   "outputs": [
    {
     "name": "stdout",
     "output_type": "stream",
     "text": [
      "Refute: Add a Random Common Cause\n",
      "Estimated effect:-0.2509450896673391\n",
      "New effect:-0.24889789577233284\n",
      "\n"
     ]
    },
    {
     "name": "stderr",
     "output_type": "stream",
     "text": [
      "Index.ravel returning ndarray is deprecated; in a future version this will return a view on self.\n"
     ]
    }
   ],
   "source": [
    "refute1_results=model.refute_estimate(identified_estimand, estimate,\n",
    "        method_name=\"random_common_cause\")\n",
    "print(refute1_results)"
   ]
  },
  {
   "cell_type": "code",
   "execution_count": 41,
   "metadata": {},
   "outputs": [
    {
     "name": "stdout",
     "output_type": "stream",
     "text": [
      "Refute: Add a Random Common Cause\n",
      "Estimated effect:-0.2483442759253419\n",
      "New effect:-0.2521956860383994\n",
      "\n"
     ]
    }
   ],
   "source": [
    "refute1_results=model.refute_estimate(identified_estimand, causal_estimate_dmatch,\n",
    "        method_name=\"random_common_cause\")\n",
    "print(refute1_results)"
   ]
  },
  {
   "cell_type": "code",
   "execution_count": 42,
   "metadata": {},
   "outputs": [
    {
     "name": "stdout",
     "output_type": "stream",
     "text": [
      "Refute: Add a Random Common Cause\n",
      "Estimated effect:-0.15228300963337876\n",
      "New effect:-0.1524899667682827\n",
      "\n"
     ]
    }
   ],
   "source": [
    "refute1_results=model.refute_estimate(identified_estimand, dml_estimate,\n",
    "        method_name=\"random_common_cause\")\n",
    "print(refute1_results)"
   ]
  },
  {
   "cell_type": "code",
   "execution_count": 43,
   "metadata": {},
   "outputs": [
    {
     "name": "stderr",
     "output_type": "stream",
     "text": [
      "Function get_feature_names is deprecated; get_feature_names is deprecated in 1.0 and will be removed in 1.2. Please use get_feature_names_out instead.\n"
     ]
    },
    {
     "name": "stdout",
     "output_type": "stream",
     "text": [
      "Refute: Add a Random Common Cause\n",
      "Estimated effect:-0.22533919117012688\n",
      "New effect:-0.22464739726708532\n",
      "\n"
     ]
    }
   ],
   "source": [
    "refute1_results=model.refute_estimate(identified_estimand, dr_estimate,\n",
    "        method_name=\"random_common_cause\")\n",
    "print(refute1_results)\n"
   ]
  },
  {
   "cell_type": "markdown",
   "metadata": {},
   "source": [
    "### Method-2\n",
    "**Placebo Treatment Refuter:-** *Randomly assigns any covariate as a treatment and re-runs the analysis. If our assumptions were correct then this newly found out estimate should go to 0.*"
   ]
  },
  {
   "cell_type": "code",
   "execution_count": 44,
   "metadata": {},
   "outputs": [
    {
     "name": "stderr",
     "output_type": "stream",
     "text": [
      "Index.ravel returning ndarray is deprecated; in a future version this will return a view on self.\n",
      "Index.ravel returning ndarray is deprecated; in a future version this will return a view on self.\n",
      "Index.ravel returning ndarray is deprecated; in a future version this will return a view on self.\n",
      "Index.ravel returning ndarray is deprecated; in a future version this will return a view on self.\n",
      "Index.ravel returning ndarray is deprecated; in a future version this will return a view on self.\n",
      "Index.ravel returning ndarray is deprecated; in a future version this will return a view on self.\n",
      "Index.ravel returning ndarray is deprecated; in a future version this will return a view on self.\n",
      "Index.ravel returning ndarray is deprecated; in a future version this will return a view on self.\n",
      "Index.ravel returning ndarray is deprecated; in a future version this will return a view on self.\n",
      "Index.ravel returning ndarray is deprecated; in a future version this will return a view on self.\n",
      "Index.ravel returning ndarray is deprecated; in a future version this will return a view on self.\n",
      "Index.ravel returning ndarray is deprecated; in a future version this will return a view on self.\n",
      "Index.ravel returning ndarray is deprecated; in a future version this will return a view on self.\n",
      "Index.ravel returning ndarray is deprecated; in a future version this will return a view on self.\n",
      "Index.ravel returning ndarray is deprecated; in a future version this will return a view on self.\n",
      "Index.ravel returning ndarray is deprecated; in a future version this will return a view on self.\n",
      "Index.ravel returning ndarray is deprecated; in a future version this will return a view on self.\n",
      "Index.ravel returning ndarray is deprecated; in a future version this will return a view on self.\n",
      "Index.ravel returning ndarray is deprecated; in a future version this will return a view on self.\n",
      "Index.ravel returning ndarray is deprecated; in a future version this will return a view on self.\n",
      "Index.ravel returning ndarray is deprecated; in a future version this will return a view on self.\n",
      "Index.ravel returning ndarray is deprecated; in a future version this will return a view on self.\n",
      "Index.ravel returning ndarray is deprecated; in a future version this will return a view on self.\n",
      "Index.ravel returning ndarray is deprecated; in a future version this will return a view on self.\n",
      "Index.ravel returning ndarray is deprecated; in a future version this will return a view on self.\n",
      "Index.ravel returning ndarray is deprecated; in a future version this will return a view on self.\n",
      "Index.ravel returning ndarray is deprecated; in a future version this will return a view on self.\n",
      "Index.ravel returning ndarray is deprecated; in a future version this will return a view on self.\n",
      "Index.ravel returning ndarray is deprecated; in a future version this will return a view on self.\n",
      "Index.ravel returning ndarray is deprecated; in a future version this will return a view on self.\n",
      "Index.ravel returning ndarray is deprecated; in a future version this will return a view on self.\n",
      "Index.ravel returning ndarray is deprecated; in a future version this will return a view on self.\n",
      "Index.ravel returning ndarray is deprecated; in a future version this will return a view on self.\n",
      "Index.ravel returning ndarray is deprecated; in a future version this will return a view on self.\n",
      "Index.ravel returning ndarray is deprecated; in a future version this will return a view on self.\n",
      "Index.ravel returning ndarray is deprecated; in a future version this will return a view on self.\n",
      "Index.ravel returning ndarray is deprecated; in a future version this will return a view on self.\n",
      "Index.ravel returning ndarray is deprecated; in a future version this will return a view on self.\n",
      "Index.ravel returning ndarray is deprecated; in a future version this will return a view on self.\n",
      "Index.ravel returning ndarray is deprecated; in a future version this will return a view on self.\n",
      "Index.ravel returning ndarray is deprecated; in a future version this will return a view on self.\n",
      "Index.ravel returning ndarray is deprecated; in a future version this will return a view on self.\n",
      "Index.ravel returning ndarray is deprecated; in a future version this will return a view on self.\n",
      "Index.ravel returning ndarray is deprecated; in a future version this will return a view on self.\n",
      "Index.ravel returning ndarray is deprecated; in a future version this will return a view on self.\n",
      "Index.ravel returning ndarray is deprecated; in a future version this will return a view on self.\n",
      "Index.ravel returning ndarray is deprecated; in a future version this will return a view on self.\n",
      "Index.ravel returning ndarray is deprecated; in a future version this will return a view on self.\n",
      "Index.ravel returning ndarray is deprecated; in a future version this will return a view on self.\n",
      "Index.ravel returning ndarray is deprecated; in a future version this will return a view on self.\n",
      "Index.ravel returning ndarray is deprecated; in a future version this will return a view on self.\n",
      "Index.ravel returning ndarray is deprecated; in a future version this will return a view on self.\n",
      "Index.ravel returning ndarray is deprecated; in a future version this will return a view on self.\n",
      "Index.ravel returning ndarray is deprecated; in a future version this will return a view on self.\n",
      "Index.ravel returning ndarray is deprecated; in a future version this will return a view on self.\n",
      "Index.ravel returning ndarray is deprecated; in a future version this will return a view on self.\n",
      "Index.ravel returning ndarray is deprecated; in a future version this will return a view on self.\n",
      "Index.ravel returning ndarray is deprecated; in a future version this will return a view on self.\n",
      "Index.ravel returning ndarray is deprecated; in a future version this will return a view on self.\n",
      "Index.ravel returning ndarray is deprecated; in a future version this will return a view on self.\n",
      "Index.ravel returning ndarray is deprecated; in a future version this will return a view on self.\n",
      "Index.ravel returning ndarray is deprecated; in a future version this will return a view on self.\n",
      "Index.ravel returning ndarray is deprecated; in a future version this will return a view on self.\n",
      "Index.ravel returning ndarray is deprecated; in a future version this will return a view on self.\n",
      "Index.ravel returning ndarray is deprecated; in a future version this will return a view on self.\n",
      "Index.ravel returning ndarray is deprecated; in a future version this will return a view on self.\n",
      "Index.ravel returning ndarray is deprecated; in a future version this will return a view on self.\n",
      "Index.ravel returning ndarray is deprecated; in a future version this will return a view on self.\n",
      "Index.ravel returning ndarray is deprecated; in a future version this will return a view on self.\n",
      "Index.ravel returning ndarray is deprecated; in a future version this will return a view on self.\n",
      "Index.ravel returning ndarray is deprecated; in a future version this will return a view on self.\n",
      "Index.ravel returning ndarray is deprecated; in a future version this will return a view on self.\n",
      "Index.ravel returning ndarray is deprecated; in a future version this will return a view on self.\n",
      "Index.ravel returning ndarray is deprecated; in a future version this will return a view on self.\n",
      "Index.ravel returning ndarray is deprecated; in a future version this will return a view on self.\n",
      "Index.ravel returning ndarray is deprecated; in a future version this will return a view on self.\n",
      "Index.ravel returning ndarray is deprecated; in a future version this will return a view on self.\n",
      "Index.ravel returning ndarray is deprecated; in a future version this will return a view on self.\n",
      "Index.ravel returning ndarray is deprecated; in a future version this will return a view on self.\n",
      "Index.ravel returning ndarray is deprecated; in a future version this will return a view on self.\n",
      "Index.ravel returning ndarray is deprecated; in a future version this will return a view on self.\n",
      "Index.ravel returning ndarray is deprecated; in a future version this will return a view on self.\n",
      "Index.ravel returning ndarray is deprecated; in a future version this will return a view on self.\n",
      "Index.ravel returning ndarray is deprecated; in a future version this will return a view on self.\n"
     ]
    },
    {
     "name": "stderr",
     "output_type": "stream",
     "text": [
      "Index.ravel returning ndarray is deprecated; in a future version this will return a view on self.\n",
      "Index.ravel returning ndarray is deprecated; in a future version this will return a view on self.\n",
      "Index.ravel returning ndarray is deprecated; in a future version this will return a view on self.\n",
      "Index.ravel returning ndarray is deprecated; in a future version this will return a view on self.\n",
      "Index.ravel returning ndarray is deprecated; in a future version this will return a view on self.\n",
      "Index.ravel returning ndarray is deprecated; in a future version this will return a view on self.\n",
      "Index.ravel returning ndarray is deprecated; in a future version this will return a view on self.\n",
      "Index.ravel returning ndarray is deprecated; in a future version this will return a view on self.\n",
      "Index.ravel returning ndarray is deprecated; in a future version this will return a view on self.\n",
      "Index.ravel returning ndarray is deprecated; in a future version this will return a view on self.\n",
      "Index.ravel returning ndarray is deprecated; in a future version this will return a view on self.\n",
      "Index.ravel returning ndarray is deprecated; in a future version this will return a view on self.\n",
      "Index.ravel returning ndarray is deprecated; in a future version this will return a view on self.\n",
      "Index.ravel returning ndarray is deprecated; in a future version this will return a view on self.\n",
      "Index.ravel returning ndarray is deprecated; in a future version this will return a view on self.\n"
     ]
    },
    {
     "name": "stdout",
     "output_type": "stream",
     "text": [
      "Refute: Use a Placebo Treatment\n",
      "Estimated effect:-0.2509450896673391\n",
      "New effect:-0.00010393476205431007\n",
      "p value:0.49\n",
      "\n"
     ]
    },
    {
     "name": "stderr",
     "output_type": "stream",
     "text": [
      "Index.ravel returning ndarray is deprecated; in a future version this will return a view on self.\n"
     ]
    }
   ],
   "source": [
    "refute2_results=model.refute_estimate(identified_estimand, estimate,\n",
    "        method_name=\"placebo_treatment_refuter\")\n",
    "print(refute2_results)"
   ]
  },
  {
   "cell_type": "code",
   "execution_count": 46,
   "metadata": {},
   "outputs": [
    {
     "name": "stdout",
     "output_type": "stream",
     "text": [
      "Refute: Use a Placebo Treatment\n",
      "Estimated effect:-0.2483442759253419\n",
      "New effect:0.00013245792597264824\n",
      "p value:0.48\n",
      "\n"
     ]
    }
   ],
   "source": [
    "refute2_results=model.refute_estimate(identified_estimand, causal_estimate_dmatch,\n",
    "        method_name=\"placebo_treatment_refuter\")\n",
    "print(refute2_results)"
   ]
  },
  {
   "cell_type": "code",
   "execution_count": null,
   "metadata": {},
   "outputs": [],
   "source": [
    "refute2_results=model.refute_estimate(identified_estimand, dml_estimate,\n",
    "        method_name=\"placebo_treatment_refuter\")\n",
    "print(refute2_results)"
   ]
  },
  {
   "cell_type": "markdown",
   "metadata": {},
   "source": [
    "### Method-3\n",
    "**Data Subset Refuter:-** *Creates subsets of the data(similar to cross-validation) and checks whether the causal estimates vary across subsets. If our assumptions were correct there shouldn't be much variation.*"
   ]
  },
  {
   "cell_type": "code",
   "execution_count": 29,
   "metadata": {},
   "outputs": [
    {
     "name": "stderr",
     "output_type": "stream",
     "text": [
      "/Users/ESMoraEn/anaconda3/envs/causality/lib/python3.7/site-packages/dowhy/causal_estimators/propensity_score_stratification_estimator.py:61: FutureWarning: Index.ravel returning ndarray is deprecated; in a future version this will return a view on self.\n",
      "  weighted_outcomes.columns = [\"_\".join(x) for x in weighted_outcomes.columns.ravel()]\n",
      "/Users/ESMoraEn/anaconda3/envs/causality/lib/python3.7/site-packages/dowhy/causal_estimators/propensity_score_stratification_estimator.py:61: FutureWarning: Index.ravel returning ndarray is deprecated; in a future version this will return a view on self.\n",
      "  weighted_outcomes.columns = [\"_\".join(x) for x in weighted_outcomes.columns.ravel()]\n",
      "/Users/ESMoraEn/anaconda3/envs/causality/lib/python3.7/site-packages/dowhy/causal_estimators/propensity_score_stratification_estimator.py:61: FutureWarning: Index.ravel returning ndarray is deprecated; in a future version this will return a view on self.\n",
      "  weighted_outcomes.columns = [\"_\".join(x) for x in weighted_outcomes.columns.ravel()]\n",
      "/Users/ESMoraEn/anaconda3/envs/causality/lib/python3.7/site-packages/dowhy/causal_estimators/propensity_score_stratification_estimator.py:61: FutureWarning: Index.ravel returning ndarray is deprecated; in a future version this will return a view on self.\n",
      "  weighted_outcomes.columns = [\"_\".join(x) for x in weighted_outcomes.columns.ravel()]\n",
      "/Users/ESMoraEn/anaconda3/envs/causality/lib/python3.7/site-packages/dowhy/causal_estimators/propensity_score_stratification_estimator.py:61: FutureWarning: Index.ravel returning ndarray is deprecated; in a future version this will return a view on self.\n",
      "  weighted_outcomes.columns = [\"_\".join(x) for x in weighted_outcomes.columns.ravel()]\n",
      "/Users/ESMoraEn/anaconda3/envs/causality/lib/python3.7/site-packages/dowhy/causal_estimators/propensity_score_stratification_estimator.py:61: FutureWarning: Index.ravel returning ndarray is deprecated; in a future version this will return a view on self.\n",
      "  weighted_outcomes.columns = [\"_\".join(x) for x in weighted_outcomes.columns.ravel()]\n",
      "/Users/ESMoraEn/anaconda3/envs/causality/lib/python3.7/site-packages/dowhy/causal_estimators/propensity_score_stratification_estimator.py:61: FutureWarning: Index.ravel returning ndarray is deprecated; in a future version this will return a view on self.\n",
      "  weighted_outcomes.columns = [\"_\".join(x) for x in weighted_outcomes.columns.ravel()]\n",
      "/Users/ESMoraEn/anaconda3/envs/causality/lib/python3.7/site-packages/dowhy/causal_estimators/propensity_score_stratification_estimator.py:61: FutureWarning: Index.ravel returning ndarray is deprecated; in a future version this will return a view on self.\n",
      "  weighted_outcomes.columns = [\"_\".join(x) for x in weighted_outcomes.columns.ravel()]\n",
      "/Users/ESMoraEn/anaconda3/envs/causality/lib/python3.7/site-packages/dowhy/causal_estimators/propensity_score_stratification_estimator.py:61: FutureWarning: Index.ravel returning ndarray is deprecated; in a future version this will return a view on self.\n",
      "  weighted_outcomes.columns = [\"_\".join(x) for x in weighted_outcomes.columns.ravel()]\n",
      "/Users/ESMoraEn/anaconda3/envs/causality/lib/python3.7/site-packages/dowhy/causal_estimators/propensity_score_stratification_estimator.py:61: FutureWarning: Index.ravel returning ndarray is deprecated; in a future version this will return a view on self.\n",
      "  weighted_outcomes.columns = [\"_\".join(x) for x in weighted_outcomes.columns.ravel()]\n",
      "/Users/ESMoraEn/anaconda3/envs/causality/lib/python3.7/site-packages/dowhy/causal_estimators/propensity_score_stratification_estimator.py:61: FutureWarning: Index.ravel returning ndarray is deprecated; in a future version this will return a view on self.\n",
      "  weighted_outcomes.columns = [\"_\".join(x) for x in weighted_outcomes.columns.ravel()]\n",
      "/Users/ESMoraEn/anaconda3/envs/causality/lib/python3.7/site-packages/dowhy/causal_estimators/propensity_score_stratification_estimator.py:61: FutureWarning: Index.ravel returning ndarray is deprecated; in a future version this will return a view on self.\n",
      "  weighted_outcomes.columns = [\"_\".join(x) for x in weighted_outcomes.columns.ravel()]\n",
      "/Users/ESMoraEn/anaconda3/envs/causality/lib/python3.7/site-packages/dowhy/causal_estimators/propensity_score_stratification_estimator.py:61: FutureWarning: Index.ravel returning ndarray is deprecated; in a future version this will return a view on self.\n",
      "  weighted_outcomes.columns = [\"_\".join(x) for x in weighted_outcomes.columns.ravel()]\n",
      "/Users/ESMoraEn/anaconda3/envs/causality/lib/python3.7/site-packages/dowhy/causal_estimators/propensity_score_stratification_estimator.py:61: FutureWarning: Index.ravel returning ndarray is deprecated; in a future version this will return a view on self.\n",
      "  weighted_outcomes.columns = [\"_\".join(x) for x in weighted_outcomes.columns.ravel()]\n",
      "/Users/ESMoraEn/anaconda3/envs/causality/lib/python3.7/site-packages/dowhy/causal_estimators/propensity_score_stratification_estimator.py:61: FutureWarning: Index.ravel returning ndarray is deprecated; in a future version this will return a view on self.\n",
      "  weighted_outcomes.columns = [\"_\".join(x) for x in weighted_outcomes.columns.ravel()]\n",
      "/Users/ESMoraEn/anaconda3/envs/causality/lib/python3.7/site-packages/dowhy/causal_estimators/propensity_score_stratification_estimator.py:61: FutureWarning: Index.ravel returning ndarray is deprecated; in a future version this will return a view on self.\n",
      "  weighted_outcomes.columns = [\"_\".join(x) for x in weighted_outcomes.columns.ravel()]\n",
      "/Users/ESMoraEn/anaconda3/envs/causality/lib/python3.7/site-packages/dowhy/causal_estimators/propensity_score_stratification_estimator.py:61: FutureWarning: Index.ravel returning ndarray is deprecated; in a future version this will return a view on self.\n",
      "  weighted_outcomes.columns = [\"_\".join(x) for x in weighted_outcomes.columns.ravel()]\n",
      "/Users/ESMoraEn/anaconda3/envs/causality/lib/python3.7/site-packages/dowhy/causal_estimators/propensity_score_stratification_estimator.py:61: FutureWarning: Index.ravel returning ndarray is deprecated; in a future version this will return a view on self.\n",
      "  weighted_outcomes.columns = [\"_\".join(x) for x in weighted_outcomes.columns.ravel()]\n",
      "/Users/ESMoraEn/anaconda3/envs/causality/lib/python3.7/site-packages/dowhy/causal_estimators/propensity_score_stratification_estimator.py:61: FutureWarning: Index.ravel returning ndarray is deprecated; in a future version this will return a view on self.\n",
      "  weighted_outcomes.columns = [\"_\".join(x) for x in weighted_outcomes.columns.ravel()]\n",
      "/Users/ESMoraEn/anaconda3/envs/causality/lib/python3.7/site-packages/dowhy/causal_estimators/propensity_score_stratification_estimator.py:61: FutureWarning: Index.ravel returning ndarray is deprecated; in a future version this will return a view on self.\n",
      "  weighted_outcomes.columns = [\"_\".join(x) for x in weighted_outcomes.columns.ravel()]\n",
      "/Users/ESMoraEn/anaconda3/envs/causality/lib/python3.7/site-packages/dowhy/causal_estimators/propensity_score_stratification_estimator.py:61: FutureWarning: Index.ravel returning ndarray is deprecated; in a future version this will return a view on self.\n",
      "  weighted_outcomes.columns = [\"_\".join(x) for x in weighted_outcomes.columns.ravel()]\n",
      "/Users/ESMoraEn/anaconda3/envs/causality/lib/python3.7/site-packages/dowhy/causal_estimators/propensity_score_stratification_estimator.py:61: FutureWarning: Index.ravel returning ndarray is deprecated; in a future version this will return a view on self.\n",
      "  weighted_outcomes.columns = [\"_\".join(x) for x in weighted_outcomes.columns.ravel()]\n",
      "/Users/ESMoraEn/anaconda3/envs/causality/lib/python3.7/site-packages/dowhy/causal_estimators/propensity_score_stratification_estimator.py:61: FutureWarning: Index.ravel returning ndarray is deprecated; in a future version this will return a view on self.\n",
      "  weighted_outcomes.columns = [\"_\".join(x) for x in weighted_outcomes.columns.ravel()]\n",
      "/Users/ESMoraEn/anaconda3/envs/causality/lib/python3.7/site-packages/dowhy/causal_estimators/propensity_score_stratification_estimator.py:61: FutureWarning: Index.ravel returning ndarray is deprecated; in a future version this will return a view on self.\n",
      "  weighted_outcomes.columns = [\"_\".join(x) for x in weighted_outcomes.columns.ravel()]\n"
     ]
    },
    {
     "name": "stderr",
     "output_type": "stream",
     "text": [
      "/Users/ESMoraEn/anaconda3/envs/causality/lib/python3.7/site-packages/dowhy/causal_estimators/propensity_score_stratification_estimator.py:61: FutureWarning: Index.ravel returning ndarray is deprecated; in a future version this will return a view on self.\n",
      "  weighted_outcomes.columns = [\"_\".join(x) for x in weighted_outcomes.columns.ravel()]\n",
      "/Users/ESMoraEn/anaconda3/envs/causality/lib/python3.7/site-packages/dowhy/causal_estimators/propensity_score_stratification_estimator.py:61: FutureWarning: Index.ravel returning ndarray is deprecated; in a future version this will return a view on self.\n",
      "  weighted_outcomes.columns = [\"_\".join(x) for x in weighted_outcomes.columns.ravel()]\n",
      "/Users/ESMoraEn/anaconda3/envs/causality/lib/python3.7/site-packages/dowhy/causal_estimators/propensity_score_stratification_estimator.py:61: FutureWarning: Index.ravel returning ndarray is deprecated; in a future version this will return a view on self.\n",
      "  weighted_outcomes.columns = [\"_\".join(x) for x in weighted_outcomes.columns.ravel()]\n",
      "/Users/ESMoraEn/anaconda3/envs/causality/lib/python3.7/site-packages/dowhy/causal_estimators/propensity_score_stratification_estimator.py:61: FutureWarning: Index.ravel returning ndarray is deprecated; in a future version this will return a view on self.\n",
      "  weighted_outcomes.columns = [\"_\".join(x) for x in weighted_outcomes.columns.ravel()]\n",
      "/Users/ESMoraEn/anaconda3/envs/causality/lib/python3.7/site-packages/dowhy/causal_estimators/propensity_score_stratification_estimator.py:61: FutureWarning: Index.ravel returning ndarray is deprecated; in a future version this will return a view on self.\n",
      "  weighted_outcomes.columns = [\"_\".join(x) for x in weighted_outcomes.columns.ravel()]\n",
      "/Users/ESMoraEn/anaconda3/envs/causality/lib/python3.7/site-packages/dowhy/causal_estimators/propensity_score_stratification_estimator.py:61: FutureWarning: Index.ravel returning ndarray is deprecated; in a future version this will return a view on self.\n",
      "  weighted_outcomes.columns = [\"_\".join(x) for x in weighted_outcomes.columns.ravel()]\n",
      "/Users/ESMoraEn/anaconda3/envs/causality/lib/python3.7/site-packages/dowhy/causal_estimators/propensity_score_stratification_estimator.py:61: FutureWarning: Index.ravel returning ndarray is deprecated; in a future version this will return a view on self.\n",
      "  weighted_outcomes.columns = [\"_\".join(x) for x in weighted_outcomes.columns.ravel()]\n",
      "/Users/ESMoraEn/anaconda3/envs/causality/lib/python3.7/site-packages/dowhy/causal_estimators/propensity_score_stratification_estimator.py:61: FutureWarning: Index.ravel returning ndarray is deprecated; in a future version this will return a view on self.\n",
      "  weighted_outcomes.columns = [\"_\".join(x) for x in weighted_outcomes.columns.ravel()]\n",
      "/Users/ESMoraEn/anaconda3/envs/causality/lib/python3.7/site-packages/dowhy/causal_estimators/propensity_score_stratification_estimator.py:61: FutureWarning: Index.ravel returning ndarray is deprecated; in a future version this will return a view on self.\n",
      "  weighted_outcomes.columns = [\"_\".join(x) for x in weighted_outcomes.columns.ravel()]\n",
      "/Users/ESMoraEn/anaconda3/envs/causality/lib/python3.7/site-packages/dowhy/causal_estimators/propensity_score_stratification_estimator.py:61: FutureWarning: Index.ravel returning ndarray is deprecated; in a future version this will return a view on self.\n",
      "  weighted_outcomes.columns = [\"_\".join(x) for x in weighted_outcomes.columns.ravel()]\n",
      "/Users/ESMoraEn/anaconda3/envs/causality/lib/python3.7/site-packages/dowhy/causal_estimators/propensity_score_stratification_estimator.py:61: FutureWarning: Index.ravel returning ndarray is deprecated; in a future version this will return a view on self.\n",
      "  weighted_outcomes.columns = [\"_\".join(x) for x in weighted_outcomes.columns.ravel()]\n",
      "/Users/ESMoraEn/anaconda3/envs/causality/lib/python3.7/site-packages/dowhy/causal_estimators/propensity_score_stratification_estimator.py:61: FutureWarning: Index.ravel returning ndarray is deprecated; in a future version this will return a view on self.\n",
      "  weighted_outcomes.columns = [\"_\".join(x) for x in weighted_outcomes.columns.ravel()]\n",
      "/Users/ESMoraEn/anaconda3/envs/causality/lib/python3.7/site-packages/dowhy/causal_estimators/propensity_score_stratification_estimator.py:61: FutureWarning: Index.ravel returning ndarray is deprecated; in a future version this will return a view on self.\n",
      "  weighted_outcomes.columns = [\"_\".join(x) for x in weighted_outcomes.columns.ravel()]\n",
      "/Users/ESMoraEn/anaconda3/envs/causality/lib/python3.7/site-packages/dowhy/causal_estimators/propensity_score_stratification_estimator.py:61: FutureWarning: Index.ravel returning ndarray is deprecated; in a future version this will return a view on self.\n",
      "  weighted_outcomes.columns = [\"_\".join(x) for x in weighted_outcomes.columns.ravel()]\n",
      "/Users/ESMoraEn/anaconda3/envs/causality/lib/python3.7/site-packages/dowhy/causal_estimators/propensity_score_stratification_estimator.py:61: FutureWarning: Index.ravel returning ndarray is deprecated; in a future version this will return a view on self.\n",
      "  weighted_outcomes.columns = [\"_\".join(x) for x in weighted_outcomes.columns.ravel()]\n",
      "/Users/ESMoraEn/anaconda3/envs/causality/lib/python3.7/site-packages/dowhy/causal_estimators/propensity_score_stratification_estimator.py:61: FutureWarning: Index.ravel returning ndarray is deprecated; in a future version this will return a view on self.\n",
      "  weighted_outcomes.columns = [\"_\".join(x) for x in weighted_outcomes.columns.ravel()]\n",
      "/Users/ESMoraEn/anaconda3/envs/causality/lib/python3.7/site-packages/dowhy/causal_estimators/propensity_score_stratification_estimator.py:61: FutureWarning: Index.ravel returning ndarray is deprecated; in a future version this will return a view on self.\n",
      "  weighted_outcomes.columns = [\"_\".join(x) for x in weighted_outcomes.columns.ravel()]\n",
      "/Users/ESMoraEn/anaconda3/envs/causality/lib/python3.7/site-packages/dowhy/causal_estimators/propensity_score_stratification_estimator.py:61: FutureWarning: Index.ravel returning ndarray is deprecated; in a future version this will return a view on self.\n",
      "  weighted_outcomes.columns = [\"_\".join(x) for x in weighted_outcomes.columns.ravel()]\n",
      "/Users/ESMoraEn/anaconda3/envs/causality/lib/python3.7/site-packages/dowhy/causal_estimators/propensity_score_stratification_estimator.py:61: FutureWarning: Index.ravel returning ndarray is deprecated; in a future version this will return a view on self.\n",
      "  weighted_outcomes.columns = [\"_\".join(x) for x in weighted_outcomes.columns.ravel()]\n",
      "/Users/ESMoraEn/anaconda3/envs/causality/lib/python3.7/site-packages/dowhy/causal_estimators/propensity_score_stratification_estimator.py:61: FutureWarning: Index.ravel returning ndarray is deprecated; in a future version this will return a view on self.\n",
      "  weighted_outcomes.columns = [\"_\".join(x) for x in weighted_outcomes.columns.ravel()]\n",
      "/Users/ESMoraEn/anaconda3/envs/causality/lib/python3.7/site-packages/dowhy/causal_estimators/propensity_score_stratification_estimator.py:61: FutureWarning: Index.ravel returning ndarray is deprecated; in a future version this will return a view on self.\n",
      "  weighted_outcomes.columns = [\"_\".join(x) for x in weighted_outcomes.columns.ravel()]\n",
      "/Users/ESMoraEn/anaconda3/envs/causality/lib/python3.7/site-packages/dowhy/causal_estimators/propensity_score_stratification_estimator.py:61: FutureWarning: Index.ravel returning ndarray is deprecated; in a future version this will return a view on self.\n",
      "  weighted_outcomes.columns = [\"_\".join(x) for x in weighted_outcomes.columns.ravel()]\n",
      "/Users/ESMoraEn/anaconda3/envs/causality/lib/python3.7/site-packages/dowhy/causal_estimators/propensity_score_stratification_estimator.py:61: FutureWarning: Index.ravel returning ndarray is deprecated; in a future version this will return a view on self.\n",
      "  weighted_outcomes.columns = [\"_\".join(x) for x in weighted_outcomes.columns.ravel()]\n",
      "/Users/ESMoraEn/anaconda3/envs/causality/lib/python3.7/site-packages/dowhy/causal_estimators/propensity_score_stratification_estimator.py:61: FutureWarning: Index.ravel returning ndarray is deprecated; in a future version this will return a view on self.\n",
      "  weighted_outcomes.columns = [\"_\".join(x) for x in weighted_outcomes.columns.ravel()]\n"
     ]
    },
    {
     "name": "stderr",
     "output_type": "stream",
     "text": [
      "/Users/ESMoraEn/anaconda3/envs/causality/lib/python3.7/site-packages/dowhy/causal_estimators/propensity_score_stratification_estimator.py:61: FutureWarning: Index.ravel returning ndarray is deprecated; in a future version this will return a view on self.\n",
      "  weighted_outcomes.columns = [\"_\".join(x) for x in weighted_outcomes.columns.ravel()]\n",
      "/Users/ESMoraEn/anaconda3/envs/causality/lib/python3.7/site-packages/dowhy/causal_estimators/propensity_score_stratification_estimator.py:61: FutureWarning: Index.ravel returning ndarray is deprecated; in a future version this will return a view on self.\n",
      "  weighted_outcomes.columns = [\"_\".join(x) for x in weighted_outcomes.columns.ravel()]\n",
      "/Users/ESMoraEn/anaconda3/envs/causality/lib/python3.7/site-packages/dowhy/causal_estimators/propensity_score_stratification_estimator.py:61: FutureWarning: Index.ravel returning ndarray is deprecated; in a future version this will return a view on self.\n",
      "  weighted_outcomes.columns = [\"_\".join(x) for x in weighted_outcomes.columns.ravel()]\n",
      "/Users/ESMoraEn/anaconda3/envs/causality/lib/python3.7/site-packages/dowhy/causal_estimators/propensity_score_stratification_estimator.py:61: FutureWarning: Index.ravel returning ndarray is deprecated; in a future version this will return a view on self.\n",
      "  weighted_outcomes.columns = [\"_\".join(x) for x in weighted_outcomes.columns.ravel()]\n",
      "/Users/ESMoraEn/anaconda3/envs/causality/lib/python3.7/site-packages/dowhy/causal_estimators/propensity_score_stratification_estimator.py:61: FutureWarning: Index.ravel returning ndarray is deprecated; in a future version this will return a view on self.\n",
      "  weighted_outcomes.columns = [\"_\".join(x) for x in weighted_outcomes.columns.ravel()]\n",
      "/Users/ESMoraEn/anaconda3/envs/causality/lib/python3.7/site-packages/dowhy/causal_estimators/propensity_score_stratification_estimator.py:61: FutureWarning: Index.ravel returning ndarray is deprecated; in a future version this will return a view on self.\n",
      "  weighted_outcomes.columns = [\"_\".join(x) for x in weighted_outcomes.columns.ravel()]\n",
      "/Users/ESMoraEn/anaconda3/envs/causality/lib/python3.7/site-packages/dowhy/causal_estimators/propensity_score_stratification_estimator.py:61: FutureWarning: Index.ravel returning ndarray is deprecated; in a future version this will return a view on self.\n",
      "  weighted_outcomes.columns = [\"_\".join(x) for x in weighted_outcomes.columns.ravel()]\n",
      "/Users/ESMoraEn/anaconda3/envs/causality/lib/python3.7/site-packages/dowhy/causal_estimators/propensity_score_stratification_estimator.py:61: FutureWarning: Index.ravel returning ndarray is deprecated; in a future version this will return a view on self.\n",
      "  weighted_outcomes.columns = [\"_\".join(x) for x in weighted_outcomes.columns.ravel()]\n",
      "/Users/ESMoraEn/anaconda3/envs/causality/lib/python3.7/site-packages/dowhy/causal_estimators/propensity_score_stratification_estimator.py:61: FutureWarning: Index.ravel returning ndarray is deprecated; in a future version this will return a view on self.\n",
      "  weighted_outcomes.columns = [\"_\".join(x) for x in weighted_outcomes.columns.ravel()]\n",
      "/Users/ESMoraEn/anaconda3/envs/causality/lib/python3.7/site-packages/dowhy/causal_estimators/propensity_score_stratification_estimator.py:61: FutureWarning: Index.ravel returning ndarray is deprecated; in a future version this will return a view on self.\n",
      "  weighted_outcomes.columns = [\"_\".join(x) for x in weighted_outcomes.columns.ravel()]\n",
      "/Users/ESMoraEn/anaconda3/envs/causality/lib/python3.7/site-packages/dowhy/causal_estimators/propensity_score_stratification_estimator.py:61: FutureWarning: Index.ravel returning ndarray is deprecated; in a future version this will return a view on self.\n",
      "  weighted_outcomes.columns = [\"_\".join(x) for x in weighted_outcomes.columns.ravel()]\n",
      "/Users/ESMoraEn/anaconda3/envs/causality/lib/python3.7/site-packages/dowhy/causal_estimators/propensity_score_stratification_estimator.py:61: FutureWarning: Index.ravel returning ndarray is deprecated; in a future version this will return a view on self.\n",
      "  weighted_outcomes.columns = [\"_\".join(x) for x in weighted_outcomes.columns.ravel()]\n",
      "/Users/ESMoraEn/anaconda3/envs/causality/lib/python3.7/site-packages/dowhy/causal_estimators/propensity_score_stratification_estimator.py:61: FutureWarning: Index.ravel returning ndarray is deprecated; in a future version this will return a view on self.\n",
      "  weighted_outcomes.columns = [\"_\".join(x) for x in weighted_outcomes.columns.ravel()]\n",
      "/Users/ESMoraEn/anaconda3/envs/causality/lib/python3.7/site-packages/dowhy/causal_estimators/propensity_score_stratification_estimator.py:61: FutureWarning: Index.ravel returning ndarray is deprecated; in a future version this will return a view on self.\n",
      "  weighted_outcomes.columns = [\"_\".join(x) for x in weighted_outcomes.columns.ravel()]\n",
      "/Users/ESMoraEn/anaconda3/envs/causality/lib/python3.7/site-packages/dowhy/causal_estimators/propensity_score_stratification_estimator.py:61: FutureWarning: Index.ravel returning ndarray is deprecated; in a future version this will return a view on self.\n",
      "  weighted_outcomes.columns = [\"_\".join(x) for x in weighted_outcomes.columns.ravel()]\n",
      "/Users/ESMoraEn/anaconda3/envs/causality/lib/python3.7/site-packages/dowhy/causal_estimators/propensity_score_stratification_estimator.py:61: FutureWarning: Index.ravel returning ndarray is deprecated; in a future version this will return a view on self.\n",
      "  weighted_outcomes.columns = [\"_\".join(x) for x in weighted_outcomes.columns.ravel()]\n",
      "/Users/ESMoraEn/anaconda3/envs/causality/lib/python3.7/site-packages/dowhy/causal_estimators/propensity_score_stratification_estimator.py:61: FutureWarning: Index.ravel returning ndarray is deprecated; in a future version this will return a view on self.\n",
      "  weighted_outcomes.columns = [\"_\".join(x) for x in weighted_outcomes.columns.ravel()]\n",
      "/Users/ESMoraEn/anaconda3/envs/causality/lib/python3.7/site-packages/dowhy/causal_estimators/propensity_score_stratification_estimator.py:61: FutureWarning: Index.ravel returning ndarray is deprecated; in a future version this will return a view on self.\n",
      "  weighted_outcomes.columns = [\"_\".join(x) for x in weighted_outcomes.columns.ravel()]\n",
      "/Users/ESMoraEn/anaconda3/envs/causality/lib/python3.7/site-packages/dowhy/causal_estimators/propensity_score_stratification_estimator.py:61: FutureWarning: Index.ravel returning ndarray is deprecated; in a future version this will return a view on self.\n",
      "  weighted_outcomes.columns = [\"_\".join(x) for x in weighted_outcomes.columns.ravel()]\n",
      "/Users/ESMoraEn/anaconda3/envs/causality/lib/python3.7/site-packages/dowhy/causal_estimators/propensity_score_stratification_estimator.py:61: FutureWarning: Index.ravel returning ndarray is deprecated; in a future version this will return a view on self.\n",
      "  weighted_outcomes.columns = [\"_\".join(x) for x in weighted_outcomes.columns.ravel()]\n",
      "/Users/ESMoraEn/anaconda3/envs/causality/lib/python3.7/site-packages/dowhy/causal_estimators/propensity_score_stratification_estimator.py:61: FutureWarning: Index.ravel returning ndarray is deprecated; in a future version this will return a view on self.\n",
      "  weighted_outcomes.columns = [\"_\".join(x) for x in weighted_outcomes.columns.ravel()]\n",
      "/Users/ESMoraEn/anaconda3/envs/causality/lib/python3.7/site-packages/dowhy/causal_estimators/propensity_score_stratification_estimator.py:61: FutureWarning: Index.ravel returning ndarray is deprecated; in a future version this will return a view on self.\n",
      "  weighted_outcomes.columns = [\"_\".join(x) for x in weighted_outcomes.columns.ravel()]\n",
      "/Users/ESMoraEn/anaconda3/envs/causality/lib/python3.7/site-packages/dowhy/causal_estimators/propensity_score_stratification_estimator.py:61: FutureWarning: Index.ravel returning ndarray is deprecated; in a future version this will return a view on self.\n",
      "  weighted_outcomes.columns = [\"_\".join(x) for x in weighted_outcomes.columns.ravel()]\n",
      "/Users/ESMoraEn/anaconda3/envs/causality/lib/python3.7/site-packages/dowhy/causal_estimators/propensity_score_stratification_estimator.py:61: FutureWarning: Index.ravel returning ndarray is deprecated; in a future version this will return a view on self.\n",
      "  weighted_outcomes.columns = [\"_\".join(x) for x in weighted_outcomes.columns.ravel()]\n"
     ]
    },
    {
     "name": "stderr",
     "output_type": "stream",
     "text": [
      "/Users/ESMoraEn/anaconda3/envs/causality/lib/python3.7/site-packages/dowhy/causal_estimators/propensity_score_stratification_estimator.py:61: FutureWarning: Index.ravel returning ndarray is deprecated; in a future version this will return a view on self.\n",
      "  weighted_outcomes.columns = [\"_\".join(x) for x in weighted_outcomes.columns.ravel()]\n",
      "/Users/ESMoraEn/anaconda3/envs/causality/lib/python3.7/site-packages/dowhy/causal_estimators/propensity_score_stratification_estimator.py:61: FutureWarning: Index.ravel returning ndarray is deprecated; in a future version this will return a view on self.\n",
      "  weighted_outcomes.columns = [\"_\".join(x) for x in weighted_outcomes.columns.ravel()]\n",
      "/Users/ESMoraEn/anaconda3/envs/causality/lib/python3.7/site-packages/dowhy/causal_estimators/propensity_score_stratification_estimator.py:61: FutureWarning: Index.ravel returning ndarray is deprecated; in a future version this will return a view on self.\n",
      "  weighted_outcomes.columns = [\"_\".join(x) for x in weighted_outcomes.columns.ravel()]\n",
      "/Users/ESMoraEn/anaconda3/envs/causality/lib/python3.7/site-packages/dowhy/causal_estimators/propensity_score_stratification_estimator.py:61: FutureWarning: Index.ravel returning ndarray is deprecated; in a future version this will return a view on self.\n",
      "  weighted_outcomes.columns = [\"_\".join(x) for x in weighted_outcomes.columns.ravel()]\n",
      "/Users/ESMoraEn/anaconda3/envs/causality/lib/python3.7/site-packages/dowhy/causal_estimators/propensity_score_stratification_estimator.py:61: FutureWarning: Index.ravel returning ndarray is deprecated; in a future version this will return a view on self.\n",
      "  weighted_outcomes.columns = [\"_\".join(x) for x in weighted_outcomes.columns.ravel()]\n",
      "/Users/ESMoraEn/anaconda3/envs/causality/lib/python3.7/site-packages/dowhy/causal_estimators/propensity_score_stratification_estimator.py:61: FutureWarning: Index.ravel returning ndarray is deprecated; in a future version this will return a view on self.\n",
      "  weighted_outcomes.columns = [\"_\".join(x) for x in weighted_outcomes.columns.ravel()]\n",
      "/Users/ESMoraEn/anaconda3/envs/causality/lib/python3.7/site-packages/dowhy/causal_estimators/propensity_score_stratification_estimator.py:61: FutureWarning: Index.ravel returning ndarray is deprecated; in a future version this will return a view on self.\n",
      "  weighted_outcomes.columns = [\"_\".join(x) for x in weighted_outcomes.columns.ravel()]\n",
      "/Users/ESMoraEn/anaconda3/envs/causality/lib/python3.7/site-packages/dowhy/causal_estimators/propensity_score_stratification_estimator.py:61: FutureWarning: Index.ravel returning ndarray is deprecated; in a future version this will return a view on self.\n",
      "  weighted_outcomes.columns = [\"_\".join(x) for x in weighted_outcomes.columns.ravel()]\n",
      "/Users/ESMoraEn/anaconda3/envs/causality/lib/python3.7/site-packages/dowhy/causal_estimators/propensity_score_stratification_estimator.py:61: FutureWarning: Index.ravel returning ndarray is deprecated; in a future version this will return a view on self.\n",
      "  weighted_outcomes.columns = [\"_\".join(x) for x in weighted_outcomes.columns.ravel()]\n",
      "/Users/ESMoraEn/anaconda3/envs/causality/lib/python3.7/site-packages/dowhy/causal_estimators/propensity_score_stratification_estimator.py:61: FutureWarning: Index.ravel returning ndarray is deprecated; in a future version this will return a view on self.\n",
      "  weighted_outcomes.columns = [\"_\".join(x) for x in weighted_outcomes.columns.ravel()]\n",
      "/Users/ESMoraEn/anaconda3/envs/causality/lib/python3.7/site-packages/dowhy/causal_estimators/propensity_score_stratification_estimator.py:61: FutureWarning: Index.ravel returning ndarray is deprecated; in a future version this will return a view on self.\n",
      "  weighted_outcomes.columns = [\"_\".join(x) for x in weighted_outcomes.columns.ravel()]\n",
      "/Users/ESMoraEn/anaconda3/envs/causality/lib/python3.7/site-packages/dowhy/causal_estimators/propensity_score_stratification_estimator.py:61: FutureWarning: Index.ravel returning ndarray is deprecated; in a future version this will return a view on self.\n",
      "  weighted_outcomes.columns = [\"_\".join(x) for x in weighted_outcomes.columns.ravel()]\n",
      "/Users/ESMoraEn/anaconda3/envs/causality/lib/python3.7/site-packages/dowhy/causal_estimators/propensity_score_stratification_estimator.py:61: FutureWarning: Index.ravel returning ndarray is deprecated; in a future version this will return a view on self.\n",
      "  weighted_outcomes.columns = [\"_\".join(x) for x in weighted_outcomes.columns.ravel()]\n",
      "/Users/ESMoraEn/anaconda3/envs/causality/lib/python3.7/site-packages/dowhy/causal_estimators/propensity_score_stratification_estimator.py:61: FutureWarning: Index.ravel returning ndarray is deprecated; in a future version this will return a view on self.\n",
      "  weighted_outcomes.columns = [\"_\".join(x) for x in weighted_outcomes.columns.ravel()]\n",
      "/Users/ESMoraEn/anaconda3/envs/causality/lib/python3.7/site-packages/dowhy/causal_estimators/propensity_score_stratification_estimator.py:61: FutureWarning: Index.ravel returning ndarray is deprecated; in a future version this will return a view on self.\n",
      "  weighted_outcomes.columns = [\"_\".join(x) for x in weighted_outcomes.columns.ravel()]\n",
      "/Users/ESMoraEn/anaconda3/envs/causality/lib/python3.7/site-packages/dowhy/causal_estimators/propensity_score_stratification_estimator.py:61: FutureWarning: Index.ravel returning ndarray is deprecated; in a future version this will return a view on self.\n",
      "  weighted_outcomes.columns = [\"_\".join(x) for x in weighted_outcomes.columns.ravel()]\n",
      "/Users/ESMoraEn/anaconda3/envs/causality/lib/python3.7/site-packages/dowhy/causal_estimators/propensity_score_stratification_estimator.py:61: FutureWarning: Index.ravel returning ndarray is deprecated; in a future version this will return a view on self.\n",
      "  weighted_outcomes.columns = [\"_\".join(x) for x in weighted_outcomes.columns.ravel()]\n",
      "/Users/ESMoraEn/anaconda3/envs/causality/lib/python3.7/site-packages/dowhy/causal_estimators/propensity_score_stratification_estimator.py:61: FutureWarning: Index.ravel returning ndarray is deprecated; in a future version this will return a view on self.\n",
      "  weighted_outcomes.columns = [\"_\".join(x) for x in weighted_outcomes.columns.ravel()]\n",
      "/Users/ESMoraEn/anaconda3/envs/causality/lib/python3.7/site-packages/dowhy/causal_estimators/propensity_score_stratification_estimator.py:61: FutureWarning: Index.ravel returning ndarray is deprecated; in a future version this will return a view on self.\n",
      "  weighted_outcomes.columns = [\"_\".join(x) for x in weighted_outcomes.columns.ravel()]\n",
      "/Users/ESMoraEn/anaconda3/envs/causality/lib/python3.7/site-packages/dowhy/causal_estimators/propensity_score_stratification_estimator.py:61: FutureWarning: Index.ravel returning ndarray is deprecated; in a future version this will return a view on self.\n",
      "  weighted_outcomes.columns = [\"_\".join(x) for x in weighted_outcomes.columns.ravel()]\n",
      "/Users/ESMoraEn/anaconda3/envs/causality/lib/python3.7/site-packages/dowhy/causal_estimators/propensity_score_stratification_estimator.py:61: FutureWarning: Index.ravel returning ndarray is deprecated; in a future version this will return a view on self.\n",
      "  weighted_outcomes.columns = [\"_\".join(x) for x in weighted_outcomes.columns.ravel()]\n",
      "/Users/ESMoraEn/anaconda3/envs/causality/lib/python3.7/site-packages/dowhy/causal_estimators/propensity_score_stratification_estimator.py:61: FutureWarning: Index.ravel returning ndarray is deprecated; in a future version this will return a view on self.\n",
      "  weighted_outcomes.columns = [\"_\".join(x) for x in weighted_outcomes.columns.ravel()]\n",
      "/Users/ESMoraEn/anaconda3/envs/causality/lib/python3.7/site-packages/dowhy/causal_estimators/propensity_score_stratification_estimator.py:61: FutureWarning: Index.ravel returning ndarray is deprecated; in a future version this will return a view on self.\n",
      "  weighted_outcomes.columns = [\"_\".join(x) for x in weighted_outcomes.columns.ravel()]\n",
      "/Users/ESMoraEn/anaconda3/envs/causality/lib/python3.7/site-packages/dowhy/causal_estimators/propensity_score_stratification_estimator.py:61: FutureWarning: Index.ravel returning ndarray is deprecated; in a future version this will return a view on self.\n",
      "  weighted_outcomes.columns = [\"_\".join(x) for x in weighted_outcomes.columns.ravel()]\n"
     ]
    },
    {
     "name": "stderr",
     "output_type": "stream",
     "text": [
      "/Users/ESMoraEn/anaconda3/envs/causality/lib/python3.7/site-packages/dowhy/causal_estimators/propensity_score_stratification_estimator.py:61: FutureWarning: Index.ravel returning ndarray is deprecated; in a future version this will return a view on self.\n",
      "  weighted_outcomes.columns = [\"_\".join(x) for x in weighted_outcomes.columns.ravel()]\n",
      "/Users/ESMoraEn/anaconda3/envs/causality/lib/python3.7/site-packages/dowhy/causal_estimators/propensity_score_stratification_estimator.py:61: FutureWarning: Index.ravel returning ndarray is deprecated; in a future version this will return a view on self.\n",
      "  weighted_outcomes.columns = [\"_\".join(x) for x in weighted_outcomes.columns.ravel()]\n",
      "/Users/ESMoraEn/anaconda3/envs/causality/lib/python3.7/site-packages/dowhy/causal_estimators/propensity_score_stratification_estimator.py:61: FutureWarning: Index.ravel returning ndarray is deprecated; in a future version this will return a view on self.\n",
      "  weighted_outcomes.columns = [\"_\".join(x) for x in weighted_outcomes.columns.ravel()]\n"
     ]
    },
    {
     "name": "stdout",
     "output_type": "stream",
     "text": [
      "Refute: Use a subset of data\n",
      "Estimated effect:-0.2507103363485215\n",
      "New effect:-0.2492372924326643\n",
      "p value:0.2\n",
      "\n"
     ]
    },
    {
     "name": "stderr",
     "output_type": "stream",
     "text": [
      "/Users/ESMoraEn/anaconda3/envs/causality/lib/python3.7/site-packages/dowhy/causal_estimators/propensity_score_stratification_estimator.py:61: FutureWarning: Index.ravel returning ndarray is deprecated; in a future version this will return a view on self.\n",
      "  weighted_outcomes.columns = [\"_\".join(x) for x in weighted_outcomes.columns.ravel()]\n"
     ]
    }
   ],
   "source": [
    "refute3_results=model.refute_estimate(identified_estimand, estimate,\n",
    "        method_name=\"data_subset_refuter\")\n",
    "print(refute3_results)"
   ]
  }
 ],
 "metadata": {
  "kernelspec": {
   "display_name": "causality",
   "language": "python",
   "name": "causality"
  },
  "language_info": {
   "codemirror_mode": {
    "name": "ipython",
    "version": 3
   },
   "file_extension": ".py",
   "mimetype": "text/x-python",
   "name": "python",
   "nbconvert_exporter": "python",
   "pygments_lexer": "ipython3",
   "version": "3.7.11"
  },
  "toc": {
   "base_numbering": 1,
   "nav_menu": {},
   "number_sections": false,
   "sideBar": true,
   "skip_h1_title": true,
   "title_cell": "Table of Contents",
   "title_sidebar": "Contents",
   "toc_cell": false,
   "toc_position": {},
   "toc_section_display": true,
   "toc_window_display": true
  }
 },
 "nbformat": 4,
 "nbformat_minor": 4
}
